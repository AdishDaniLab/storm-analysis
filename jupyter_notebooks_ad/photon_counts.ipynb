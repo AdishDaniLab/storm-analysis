{
 "cells": [
  {
   "cell_type": "markdown",
   "metadata": {},
   "source": [
    "### Find the true photons to counts conversion factor.  \n",
    "Images obtained using Andor Solis, count convert.\n",
    "Gayatri 06/20"
   ]
  },
  {
   "cell_type": "code",
   "execution_count": 227,
   "metadata": {},
   "outputs": [],
   "source": [
    "import os\n",
    "import numpy\n",
    "import glob\n",
    "import storm_analysis.sa_library.datareader as datareader\n",
    "\n",
    "# Change directory\n",
    "os.chdir(\"/home/gayatri/storm-data/check_photons/photon_counts/\")\n",
    "file1 = '2_counts.tif'\n",
    "file2 =  '2_photons.tif'"
   ]
  },
  {
   "cell_type": "code",
   "execution_count": 228,
   "metadata": {},
   "outputs": [],
   "source": [
    "image_counts = datareader.TifReader(file1).loadAFrame(0).astype(numpy.float64)\n",
    "image_photons = datareader.TifReader(file2).loadAFrame(0).astype(numpy.float64)\n",
    "photons_per_count = numpy.divide(image_photons, image_counts)"
   ]
  },
  {
   "cell_type": "code",
   "execution_count": 229,
   "metadata": {
    "tags": []
   },
   "outputs": [],
   "source": [
    "factor = 0.835\n",
    "photons = numpy.floor(numpy.divide((image_counts-500)*4.73526,70*factor))\n",
    "# print(photons)\n",
    "# print(numpy.min(photons))"
   ]
  },
  {
   "cell_type": "code",
   "execution_count": 230,
   "metadata": {
    "tags": []
   },
   "outputs": [],
   "source": [
    "# print(image_photons)\n",
    "# print(numpy.min(image_photons))"
   ]
  },
  {
   "cell_type": "code",
   "execution_count": 231,
   "metadata": {
    "tags": []
   },
   "outputs": [
    {
     "output_type": "stream",
     "name": "stdout",
     "text": "Min :  -3.0\nMax :  0.0\nMean :  -0.48248291015625\n"
    }
   ],
   "source": [
    "diff = numpy.subtract(photons, image_photons)\n",
    "# print(diff)\n",
    "print('Min : ', numpy.min(diff))\n",
    "print('Max : ', numpy.max(diff))\n",
    "print('Mean : ', numpy.mean(diff))"
   ]
  },
  {
   "cell_type": "code",
   "execution_count": 232,
   "metadata": {
    "tags": []
   },
   "outputs": [
    {
     "output_type": "stream",
     "name": "stdout",
     "text": "Insight3 :  0.08101385799828914\n"
    }
   ],
   "source": [
    "print('Insight3 : ', 4.73526/(70*factor))"
   ]
  },
  {
   "cell_type": "code",
   "execution_count": 233,
   "metadata": {
    "tags": []
   },
   "outputs": [],
   "source": [
    "# print('Daostorm : ', (90*0.84)/4.73526)"
   ]
  },
  {
   "cell_type": "code",
   "execution_count": null,
   "metadata": {},
   "outputs": [],
   "source": []
  }
 ],
 "metadata": {
  "language_info": {
   "codemirror_mode": {
    "name": "ipython",
    "version": 3
   },
   "file_extension": ".py",
   "mimetype": "text/x-python",
   "name": "python",
   "nbconvert_exporter": "python",
   "pygments_lexer": "ipython3",
   "version": "3.8.3-final"
  },
  "orig_nbformat": 2,
  "kernelspec": {
   "name": "python38364bitfb392dc5448f4bb7b35f579175b058c7",
   "display_name": "Python 3.8.3 64-bit"
  }
 },
 "nbformat": 4,
 "nbformat_minor": 2
}