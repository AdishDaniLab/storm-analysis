{
 "cells": [
  {
   "cell_type": "markdown",
   "metadata": {},
   "source": [
    "## Generate a csv file from .hdf5\n",
    "Notebook to view molecule lists"
   ]
  },
  {
   "cell_type": "code",
   "execution_count": 5,
   "metadata": {},
   "outputs": [],
   "source": [
    "import os\n",
    "import storm_analysis.sa_utilities.hdf5_to_txt as hdf5ToTxt\n",
    "import storm_analysis.sa_utilities.hdf5_to_bin as hdf5ToBin\n",
    "\n",
    "# Change directory\n",
    "os.chdir(\"/home/gayatri/storm/cochlea/exp-6-p15-9-Oct/20-10-12-set1-ribA-single\")"
   ]
  },
  {
   "cell_type": "code",
   "execution_count": 9,
   "metadata": {
    "tags": []
   },
   "outputs": [
    {
     "output_type": "stream",
     "name": "stdout",
     "text": [
      "Converting localizations.\n"
     ]
    }
   ],
   "source": [
    "movie = 'movie_0005.dax'\n",
    "movie_name = movie.rsplit('.dax',1)[0][:]\n",
    "h5 = movie_name+'_daostorm.hdf5'\n",
    "\n",
    "hdf5ToTxt.hdf5ToTxt(h5, movie_name+'_daostorm.csv')"
   ]
  },
  {
   "cell_type": "code",
   "execution_count": null,
   "metadata": {},
   "outputs": [],
   "source": []
  }
 ],
 "metadata": {
  "language_info": {
   "codemirror_mode": {
    "name": "ipython",
    "version": 3
   },
   "file_extension": ".py",
   "mimetype": "text/x-python",
   "name": "python",
   "nbconvert_exporter": "python",
   "pygments_lexer": "ipython3",
   "version": "3.8.3-final"
  },
  "orig_nbformat": 2,
  "kernelspec": {
   "name": "python38364bitfb392dc5448f4bb7b35f579175b058c7",
   "display_name": "Python 3.8.3 64-bit"
  }
 },
 "nbformat": 4,
 "nbformat_minor": 2
}