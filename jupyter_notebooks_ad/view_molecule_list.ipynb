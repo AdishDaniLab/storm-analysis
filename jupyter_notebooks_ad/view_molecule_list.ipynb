{
 "cells": [
  {
   "cell_type": "markdown",
   "metadata": {},
   "source": [
    "## Generate a csv file from .hdf5\n",
    "Notebook to view molecule lists"
   ]
  },
  {
   "cell_type": "code",
   "execution_count": null,
   "metadata": {},
   "outputs": [],
   "source": [
    "import os\n",
    "import glob\n",
    "import storm_analysis.sa_utilities.hdf5_to_txt as hdf5ToTxt\n",
    "# import storm_analysis.sa_utilities.hdf5_to_bin as hdf5ToBin\n",
    "import pandas as pd\n",
    "# Change directory\n",
    "os.chdir(\"D:/gayatri-folder/Old data/corti/daostorm_analysis\")"
   ]
  },
  {
   "cell_type": "code",
   "execution_count": null,
   "metadata": {},
   "outputs": [],
   "source": [
    "# hdf5ToBin.hdf5ToBin('movie_0005_daostorm.hdf5', 'movie_0005_modified4.bin')\n",
    "hdf5ToTxt.hdf5ToTxt('movie_0001_daostorm2.hdf5', 'movie_0001.csv' )\n",
    "# mlists = sorted(glob.glob('new_movie_*.txt'))\n",
    "# for mlist in mlists:\n",
    "#     df = pd.read_csv(mlist,sep='\\t')\n",
    "#     file_name = mlist.rsplit('.txt',1)[0][:]\n",
    "#     df.to_csv(file_name+'.csv',index=False)\n",
    "#     print(file_name, ' has shape ', df.shape)\n",
    "# print('Original : \\n', df.head())"
   ]
  },
  {
   "cell_type": "code",
   "execution_count": null,
   "metadata": {},
   "outputs": [],
   "source": []
  }
 ],
 "metadata": {
  "language_info": {
   "codemirror_mode": {
    "name": "ipython",
    "version": 3
   },
   "file_extension": ".py",
   "mimetype": "text/x-python",
   "name": "python",
   "nbconvert_exporter": "python",
   "pygments_lexer": "ipython3",
   "version": "3.7.3-final"
  },
  "orig_nbformat": 2,
  "kernelspec": {
   "name": "python37364bit15611d4676c74b4bb74a270c481a0fbe",
   "display_name": "Python 3.7.3 64-bit"
  }
 },
 "nbformat": 4,
 "nbformat_minor": 2
}