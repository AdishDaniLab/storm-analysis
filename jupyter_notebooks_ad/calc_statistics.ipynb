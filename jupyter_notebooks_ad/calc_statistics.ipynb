{
 "cells": [
  {
   "cell_type": "markdown",
   "metadata": {},
   "source": [
    "## Calculate molecule statistics \n",
    "Input : Molecule list converted from Insight3 format bin -> txt -> csv ( bin -> txt via Insight3 and txt -> csv via python) \n",
    "Output : Some graphs, and a csv file with mean and median of some property.   \n",
    "### Fields in Insight3 molecule list :  \n",
    "Cas###### : Category column. 1,2 are channels. 0 is non-specific. 9 is invalid.  \n",
    "X : x coordinate (original)  \n",
    "Y : y coordinate (original)  \n",
    "Xc : Drift corrected x coordinate  \n",
    "Yc : Drift corrected y coordinate    \n",
    "Height : Height of a peak in ADU (?)  \n",
    "Area : Area of the fitting ROI used for each emitter  \n",
    "Width : Width of a peak in nm  \n",
    "Phi : The azimuth angle of the elliptical gaussian fit  \n",
    "Ax : The axial ratio of the elliptical gaussian used for fitting  \n",
    "BG : Background of a detected peak  \n",
    "I : Sum of photons from a localization  \n",
    "Frame : Frame in which a molecule was first detected  \n",
    "Length : Length of a track in frames  \n",
    "Link : ...  \n",
    "Valid : ...  \n",
    "Z : z position  \n",
    "Zc : Drift corrected z position    "
   ]
  },
  {
   "cell_type": "code",
   "execution_count": 5,
   "metadata": {},
   "outputs": [],
   "source": [
    "import os\n",
    "import pandas as pd\n",
    "# import matplotlib.pyplot as plt\n",
    "import numpy\n",
    "\n",
    "# Change directory\n",
    "os.chdir(\"D:/gayatri-folder/STORM_analysis/06-08-20_extract_info_new_movies\")\n"
   ]
  },
  {
   "cell_type": "code",
   "execution_count": 10,
   "metadata": {},
   "outputs": [],
   "source": [
    "mlist = 'new_movie_11.csv'\n",
    "df = pd.read_csv(mlist)\n",
    "file_name = mlist.rsplit('.csv',1)[0][:]   "
   ]
  },
  {
   "cell_type": "code",
   "execution_count": 11,
   "metadata": {},
   "outputs": [
    {
     "output_type": "stream",
     "name": "stdout",
     "text": "Max height (ADU):  7970.14063\nMax height (Photons):  462.26815654\nMin height (ADU):  400.02686\nMin height (Photons):  23.201557880000003\nMax I:  7213932.0\nMin I:  -1094277.625\nMax Area:  1061148.25\nMin Area:  -9420.88672\n"
    }
   ],
   "source": [
    "max_h = df['Height'].max()\n",
    "print('Max height (ADU): ', max_h)\n",
    "print('Max height (Photons): ', max_h*0.058)\n",
    "min_h = df['Height'].min()\n",
    "print('Min height (ADU): ', min_h)\n",
    "print('Min height (Photons): ', min_h*0.058)\n",
    "max_sum = df['I'].max()\n",
    "print('Max I: ', max_sum)\n",
    "# print('Max I (Photons): ', max_sum*0.058)\n",
    "min_sum = df['I'].min()\n",
    "print('Min I: ', min_sum)\n",
    "# print('Min I (Photons): ', min_sum*0.058)\n",
    "# print('Mean : \\n', df.mean())\n",
    "max_area = df['Area'].max()\n",
    "print('Max Area: ', max_area)\n",
    "min_area = df['Area'].min()\n",
    "print('Min Area: ', min_area)"
   ]
  },
  {
   "cell_type": "code",
   "execution_count": 12,
   "metadata": {},
   "outputs": [
    {
     "output_type": "stream",
     "name": "stdout",
     "text": "Cas26095          X         Y         Xc        Yc      Height  \\\n0         1  145.19885   5.15924  145.19885   5.15924   989.90259   \n1         1  200.30295   8.60958  200.30295   8.60958   461.53064   \n2         1   31.57807  17.69091   31.57807  17.69091  1961.73901   \n3         1  124.99364  18.64585  124.99364  18.64585  1550.69238   \n4         1  112.82450  19.37040  112.82450  19.37040   753.41516   \n\n          Area      Width       Phi       Ax         BG            I  Frame  \\\n0   5924.79004  312.22229   7.75262  1.22197  816.99298   7144.17529      2   \n1    915.07977  171.42188  16.92527  1.37490  828.27228   1937.19312      2   \n2  13317.57813  332.58118  -7.23675  1.06716  910.06262  13496.43457      2   \n3  32402.10352  372.73880  86.96848  1.04347  938.57104  30969.16797      2   \n4   5819.77930  353.30264 -70.05693  1.05930  777.36853   6410.78564      2   \n\n   Length  Link  Valid  Z  Zc  \n0       1    -1      1  0   0  \n1       1    -1      1  0   0  \n2       1    -1      1  0   0  \n3       3    -1      1  0   0  \n4       1    -1      1  0   0  \n"
    }
   ],
   "source": [
    "print(df.head())"
   ]
  },
  {
   "cell_type": "code",
   "execution_count": null,
   "metadata": {},
   "outputs": [],
   "source": []
  }
 ],
 "metadata": {
  "language_info": {
   "codemirror_mode": {
    "name": "ipython",
    "version": 3
   },
   "file_extension": ".py",
   "mimetype": "text/x-python",
   "name": "python",
   "nbconvert_exporter": "python",
   "pygments_lexer": "ipython3",
   "version": "3.7.3-final"
  },
  "orig_nbformat": 2,
  "kernelspec": {
   "name": "python37364bit15611d4676c74b4bb74a270c481a0fbe",
   "display_name": "Python 3.7.3 64-bit"
  }
 },
 "nbformat": 4,
 "nbformat_minor": 2
}