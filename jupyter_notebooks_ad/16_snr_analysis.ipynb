{
 "nbformat": 4,
 "nbformat_minor": 2,
 "metadata": {
  "language_info": {
   "name": "python",
   "codemirror_mode": {
    "name": "ipython",
    "version": 3
   },
   "version": "3.7.3-final"
  },
  "orig_nbformat": 2,
  "file_extension": ".py",
  "mimetype": "text/x-python",
  "name": "python",
  "npconvert_exporter": "python",
  "pygments_lexer": "ipython3",
  "version": 3,
  "kernelspec": {
   "name": "python3",
   "display_name": "Python 3"
  }
 },
 "cells": [
  {
   "cell_type": "markdown",
   "execution_count": null,
   "metadata": {},
   "outputs": [],
   "source": [
    "## Quantifying image quality (Part 2/3)\n",
    "For combining numerous csv files into one. \n",
    "Concerned data-folder : session16 "
   ]
  },
  {
   "cell_type": "code",
   "execution_count": 15,
   "metadata": {},
   "outputs": [],
   "source": [
    "import os\n",
    "import matplotlib.pyplot as plt\n",
    "import numpy\n",
    "import glob\n",
    "import tifffile\n",
    "import pandas as pd\n",
    "\n",
    "import storm_analysis.sa_library.datareader as datareader\n",
    "\n",
    "os.chdir(\"D:/gayatri-folder/session16/ROI3\")\n",
    "\n",
    "# Load images\n",
    "csv_files = sorted(glob.glob('D:/gayatri-folder/session16/ROI3/peaks_*.csv'))"
   ]
  },
  {
   "cell_type": "code",
   "execution_count": 16,
   "metadata": {},
   "outputs": [],
   "source": [
    "dataframes = []\n",
    "for file in csv_files:\n",
    "    df = pd.read_csv(file) # additional arguments up to your need\n",
    "    df['exp'] = file.rsplit(\"\\\\\",1)[1][:].rsplit('.csv',1)[0][:]\n",
    "    dataframes.append(df)\n",
    "all_of_em = pd.concat(dataframes)\n",
    "# all_of_em.to_csv(\"all.csv\", header=['row','col','x','y','peak_ph','avg_ph', 'sum_ph', 'snr1', 'snr2', 'snr3', 'snr4', 'exp'],index=False)"
   ]
  },
  {
   "cell_type": "code",
   "execution_count": 17,
   "metadata": {},
   "outputs": [],
   "source": [
    "# fig, ax = plt.subplots()\n",
    "all_of_em['exp'] = all_of_em['exp'].replace(['peaks_emgain_0001', 'peaks_emgain_0002', 'peaks_emgain_0003', 'peaks_emgain_0004', 'peaks_emgain_0005', 'peaks_emgain_0006', 'peaks_emgain_extra_0030', 'peaks_emgain_extra_0065', 'peaks_preamp_0001', 'peaks_preamp_0002', 'peaks_preamp_0003', 'peaks_vsspeed_0002', 'peaks_vsspeed_0003','peaks_vsspeed_0004', 'peaks_vsspeed_0005'], ['EM Gain 1', 'EM Gain 20', 'EM Gain 40', 'EM Gain 60', 'EM Gain 80', 'EM Gain 100', 'EM Gain 30', 'EM Gain 65', 'Preamp 1', 'Preamp 2', 'Preamp 3', 'vsspeed 0.5', 'vsspeed 0.7','vsspeed 1.5', 'vsspeed 3.3'])\n",
    "all_of_em.to_csv(\"all.csv\", header=['row','col','x','y','peak_ph','avg_ph', 'sum_ph', 'snr1', 'snr2', 'snr3', 'snr4', 'exp'],index=False)\n",
    "# bp = all_of_em.boxplot(column=['SNR'], by='exp', figsize = (8,8), rot = 90)\n",
    "# plt.suptitle('SNR for different camera settings')\n",
    "# plt.ylabel('Signal-to-background')\n",
    "# plt.xlabel('Experiments')\n",
    "# plt.savefig('snr.png')\n",
    "# plt.show()"
   ]
  },
  {
   "cell_type": "code",
   "execution_count": 18,
   "metadata": {},
   "outputs": [],
   "source": [
    "# plt.figure(figsize = (20,8))\n",
    "# d1 = plt.scatter(all_of_em['exp'], all_of_em['SNR'], color = 'orchid', marker = \".\")\n",
    "# plt.ylabel('Signal-to-background')\n",
    "# plt.xlabel('Experiments')\n",
    "# plt.savefig('snr_scatter.png')\n",
    "# plt.show()"
   ]
  }
 ]
}