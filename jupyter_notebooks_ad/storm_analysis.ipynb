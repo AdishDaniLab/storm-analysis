{
 "cells": [
  {
   "cell_type": "markdown",
   "metadata": {},
   "source": [
    "### Storm Analysis\n",
    "Notebook for performing storm analysis on selected folders/movies."
   ]
  },
  {
   "cell_type": "code",
   "execution_count": null,
   "metadata": {},
   "outputs": [],
   "source": [
    "import os\n",
    "import numpy\n",
    "import glob\n",
    "import matplotlib.pyplot as plt\n",
    "import glob\n",
    "import time\n",
    "\n",
    "import storm_analysis.daostorm_3d.mufit_analysis as mFit\n",
    "# import storm_analysis.sa_utilities.hdf5_to_bin as hdf5ToBin\n",
    "\n",
    "# Change directory\n",
    "os.chdir(\"/home/gayatri/storm-data/daostorm-analysis-folder\")"
   ]
  },
  {
   "cell_type": "code",
   "execution_count": null,
   "metadata": {},
   "outputs": [],
   "source": [
    "# Create analysis settings file if required.\n"
   ]
  },
  {
   "cell_type": "code",
   "execution_count": null,
   "metadata": {
    "tags": []
   },
   "outputs": [],
   "source": [
    "start_time = time.time()\n",
    "movies = sorted(glob.glob('storm_0007.dax'))\n",
    "for movie in movies :\n",
    "    movie_name = movie.rsplit('.dax',1)[0][:] #Edit this!!\n",
    "    print('Analyzing ', movie_name)\n",
    "    h5 = movie_name+'_daostorm.hdf5'\n",
    "    if os.path.exists(h5):\n",
    "        os.remove(h5)\n",
    "    mFit.analyze(movie, h5, \"analysis_settings_\"+movie_name+\".xml\")\n",
    "    \n",
    "print(\"--- %s seconds ---\" % (time.time() - start_time))"
   ]
  },
  {
   "cell_type": "code",
   "execution_count": null,
   "metadata": {},
   "outputs": [],
   "source": []
  }
 ],
 "metadata": {
  "language_info": {
   "name": "python",
   "codemirror_mode": {
    "name": "ipython",
    "version": 3
   },
   "version": "3.8.3-final"
  },
  "orig_nbformat": 2,
  "file_extension": ".py",
  "mimetype": "text/x-python",
  "name": "python",
  "npconvert_exporter": "python",
  "pygments_lexer": "ipython3",
  "version": 3,
  "kernelspec": {
   "name": "python38364bitfb392dc5448f4bb7b35f579175b058c7",
   "display_name": "Python 3.8.3 64-bit"
  }
 },
 "nbformat": 4,
 "nbformat_minor": 2
}