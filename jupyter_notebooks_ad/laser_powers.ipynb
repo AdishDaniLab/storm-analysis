{
 "cells": [
  {
   "cell_type": "markdown",
   "metadata": {},
   "source": [
    "### A simple notebook to calculate laser power densities. ###    \n",
    "Stage position : EPI (13.0 mm)  \n",
    "Lasers : 647nm, 561nm, 405nm  \n",
    "File : /home/gayatri/storm-data/laser_powers.csv  \n"
   ]
  },
  {
   "cell_type": "code",
   "execution_count": 6,
   "metadata": {},
   "outputs": [],
   "source": [
    "import pandas as pd \n",
    "import os \n",
    "\n",
    "# Change directory\n",
    "os.chdir(\"/home/gayatri/storm-data/\")"
   ]
  },
  {
   "cell_type": "code",
   "execution_count": 7,
   "metadata": {},
   "outputs": [],
   "source": [
    "file_name = 'laser_powers.csv'\n",
    "df = pd.read_csv(file_name, usecols= ['Laser','ND','Power','Set','slider'])\n",
    "area = 0.00002635 # The area of illumination is around 2.635 x 10^(-5) cm2\n",
    "\n",
    "# Laser : Wavelength on laser in nm\n",
    "# ND : ND filter used in the path\n",
    "# Power : The power meter reading\n",
    "# Set : The set laser power (eg. defaults are 90mW for 647, 15mW for 561)\n",
    "# slider : The illumination slider position in Hal. Max is 1.0."
   ]
  },
  {
   "cell_type": "code",
   "execution_count": 12,
   "metadata": {},
   "outputs": [],
   "source": [
    "# df['Pwr_density'] = (df['Power'] * 0.001) / area\n",
    "df['T'] = 10**((-1) * df['ND']) # Transmitted fraction\n",
    "df['Power_density'] = (df['Power'] * 0.001) / (area * df['T'] * df['slider']) # without ND filter\n",
    "# df['Pwr_no_ND'] = (df['Power']) / (df['T'])\n",
    "# df['Trans_PWR'] = (df['Pwr_no_ND'] * 100) / (df['Set']*df['slider'])"
   ]
  },
  {
   "cell_type": "code",
   "execution_count": 13,
   "metadata": {},
   "outputs": [
    {
     "output_type": "execute_result",
     "data": {
      "text/plain": "    Laser   ND    Power  Set  slider         T  Power_density\n0     647  2.0  0.19400   90     1.0  0.010000     736.242884\n1     647  2.0  0.16400   80     1.0  0.010000     622.390892\n2     647  2.0  0.14400   70     1.0  0.010000     546.489564\n3     647  2.0  0.12000   60     1.0  0.010000     455.407970\n4     647  2.0  0.09800   50     1.0  0.010000     371.916509\n5     647  2.0  0.19000   90     0.9  0.010000     801.180687\n6     647  2.0  0.18200   90     0.8  0.010000     863.377609\n7     647  2.0  0.16400   90     0.7  0.010000     889.129845\n8     647  2.0  0.13800   90     0.6  0.010000     872.865275\n9     561  0.5  0.29500   15     1.0  0.316228      35.403109\n10    561  0.5  0.29100   15     0.9  0.316228      38.803407\n11    561  0.5  0.27300   15     0.8  0.316228      40.953596\n12    561  0.5  0.15500   15     0.5  0.316228      37.203267\n13    561  0.5  0.03000   15     0.2  0.316228      18.001581\n14    561  0.5  0.00700   15     0.1  0.316228       8.400738\n15    405  0.5  0.36900  100     0.5  0.316228      88.567777\n16    405  0.5  0.29600  100     0.4  0.316228      88.807798\n17    405  0.5  0.22200  100     0.3  0.316228      88.807798\n18    405  0.5  0.14500  100     0.2  0.316228      87.007640\n19    405  0.5  0.07200  100     0.1  0.316228      86.407587\n20    405  3.0  0.00005  100     0.1  0.001000      18.975332\n21    405  0.0  0.29600  100     0.1  1.000000     112.333966\n22    647  2.0  0.18400   90     1.0  0.010000     698.292220\n23    647  3.0  0.02140   90     1.0  0.001000     812.144213\n24    647  2.0  0.16200   80     1.0  0.010000     614.800759\n25    647  3.0  0.01800   80     1.0  0.001000     683.111954",
      "text/html": "<div>\n<style scoped>\n    .dataframe tbody tr th:only-of-type {\n        vertical-align: middle;\n    }\n\n    .dataframe tbody tr th {\n        vertical-align: top;\n    }\n\n    .dataframe thead th {\n        text-align: right;\n    }\n</style>\n<table border=\"1\" class=\"dataframe\">\n  <thead>\n    <tr style=\"text-align: right;\">\n      <th></th>\n      <th>Laser</th>\n      <th>ND</th>\n      <th>Power</th>\n      <th>Set</th>\n      <th>slider</th>\n      <th>T</th>\n      <th>Power_density</th>\n    </tr>\n  </thead>\n  <tbody>\n    <tr>\n      <th>0</th>\n      <td>647</td>\n      <td>2.0</td>\n      <td>0.19400</td>\n      <td>90</td>\n      <td>1.0</td>\n      <td>0.010000</td>\n      <td>736.242884</td>\n    </tr>\n    <tr>\n      <th>1</th>\n      <td>647</td>\n      <td>2.0</td>\n      <td>0.16400</td>\n      <td>80</td>\n      <td>1.0</td>\n      <td>0.010000</td>\n      <td>622.390892</td>\n    </tr>\n    <tr>\n      <th>2</th>\n      <td>647</td>\n      <td>2.0</td>\n      <td>0.14400</td>\n      <td>70</td>\n      <td>1.0</td>\n      <td>0.010000</td>\n      <td>546.489564</td>\n    </tr>\n    <tr>\n      <th>3</th>\n      <td>647</td>\n      <td>2.0</td>\n      <td>0.12000</td>\n      <td>60</td>\n      <td>1.0</td>\n      <td>0.010000</td>\n      <td>455.407970</td>\n    </tr>\n    <tr>\n      <th>4</th>\n      <td>647</td>\n      <td>2.0</td>\n      <td>0.09800</td>\n      <td>50</td>\n      <td>1.0</td>\n      <td>0.010000</td>\n      <td>371.916509</td>\n    </tr>\n    <tr>\n      <th>5</th>\n      <td>647</td>\n      <td>2.0</td>\n      <td>0.19000</td>\n      <td>90</td>\n      <td>0.9</td>\n      <td>0.010000</td>\n      <td>801.180687</td>\n    </tr>\n    <tr>\n      <th>6</th>\n      <td>647</td>\n      <td>2.0</td>\n      <td>0.18200</td>\n      <td>90</td>\n      <td>0.8</td>\n      <td>0.010000</td>\n      <td>863.377609</td>\n    </tr>\n    <tr>\n      <th>7</th>\n      <td>647</td>\n      <td>2.0</td>\n      <td>0.16400</td>\n      <td>90</td>\n      <td>0.7</td>\n      <td>0.010000</td>\n      <td>889.129845</td>\n    </tr>\n    <tr>\n      <th>8</th>\n      <td>647</td>\n      <td>2.0</td>\n      <td>0.13800</td>\n      <td>90</td>\n      <td>0.6</td>\n      <td>0.010000</td>\n      <td>872.865275</td>\n    </tr>\n    <tr>\n      <th>9</th>\n      <td>561</td>\n      <td>0.5</td>\n      <td>0.29500</td>\n      <td>15</td>\n      <td>1.0</td>\n      <td>0.316228</td>\n      <td>35.403109</td>\n    </tr>\n    <tr>\n      <th>10</th>\n      <td>561</td>\n      <td>0.5</td>\n      <td>0.29100</td>\n      <td>15</td>\n      <td>0.9</td>\n      <td>0.316228</td>\n      <td>38.803407</td>\n    </tr>\n    <tr>\n      <th>11</th>\n      <td>561</td>\n      <td>0.5</td>\n      <td>0.27300</td>\n      <td>15</td>\n      <td>0.8</td>\n      <td>0.316228</td>\n      <td>40.953596</td>\n    </tr>\n    <tr>\n      <th>12</th>\n      <td>561</td>\n      <td>0.5</td>\n      <td>0.15500</td>\n      <td>15</td>\n      <td>0.5</td>\n      <td>0.316228</td>\n      <td>37.203267</td>\n    </tr>\n    <tr>\n      <th>13</th>\n      <td>561</td>\n      <td>0.5</td>\n      <td>0.03000</td>\n      <td>15</td>\n      <td>0.2</td>\n      <td>0.316228</td>\n      <td>18.001581</td>\n    </tr>\n    <tr>\n      <th>14</th>\n      <td>561</td>\n      <td>0.5</td>\n      <td>0.00700</td>\n      <td>15</td>\n      <td>0.1</td>\n      <td>0.316228</td>\n      <td>8.400738</td>\n    </tr>\n    <tr>\n      <th>15</th>\n      <td>405</td>\n      <td>0.5</td>\n      <td>0.36900</td>\n      <td>100</td>\n      <td>0.5</td>\n      <td>0.316228</td>\n      <td>88.567777</td>\n    </tr>\n    <tr>\n      <th>16</th>\n      <td>405</td>\n      <td>0.5</td>\n      <td>0.29600</td>\n      <td>100</td>\n      <td>0.4</td>\n      <td>0.316228</td>\n      <td>88.807798</td>\n    </tr>\n    <tr>\n      <th>17</th>\n      <td>405</td>\n      <td>0.5</td>\n      <td>0.22200</td>\n      <td>100</td>\n      <td>0.3</td>\n      <td>0.316228</td>\n      <td>88.807798</td>\n    </tr>\n    <tr>\n      <th>18</th>\n      <td>405</td>\n      <td>0.5</td>\n      <td>0.14500</td>\n      <td>100</td>\n      <td>0.2</td>\n      <td>0.316228</td>\n      <td>87.007640</td>\n    </tr>\n    <tr>\n      <th>19</th>\n      <td>405</td>\n      <td>0.5</td>\n      <td>0.07200</td>\n      <td>100</td>\n      <td>0.1</td>\n      <td>0.316228</td>\n      <td>86.407587</td>\n    </tr>\n    <tr>\n      <th>20</th>\n      <td>405</td>\n      <td>3.0</td>\n      <td>0.00005</td>\n      <td>100</td>\n      <td>0.1</td>\n      <td>0.001000</td>\n      <td>18.975332</td>\n    </tr>\n    <tr>\n      <th>21</th>\n      <td>405</td>\n      <td>0.0</td>\n      <td>0.29600</td>\n      <td>100</td>\n      <td>0.1</td>\n      <td>1.000000</td>\n      <td>112.333966</td>\n    </tr>\n    <tr>\n      <th>22</th>\n      <td>647</td>\n      <td>2.0</td>\n      <td>0.18400</td>\n      <td>90</td>\n      <td>1.0</td>\n      <td>0.010000</td>\n      <td>698.292220</td>\n    </tr>\n    <tr>\n      <th>23</th>\n      <td>647</td>\n      <td>3.0</td>\n      <td>0.02140</td>\n      <td>90</td>\n      <td>1.0</td>\n      <td>0.001000</td>\n      <td>812.144213</td>\n    </tr>\n    <tr>\n      <th>24</th>\n      <td>647</td>\n      <td>2.0</td>\n      <td>0.16200</td>\n      <td>80</td>\n      <td>1.0</td>\n      <td>0.010000</td>\n      <td>614.800759</td>\n    </tr>\n    <tr>\n      <th>25</th>\n      <td>647</td>\n      <td>3.0</td>\n      <td>0.01800</td>\n      <td>80</td>\n      <td>1.0</td>\n      <td>0.001000</td>\n      <td>683.111954</td>\n    </tr>\n  </tbody>\n</table>\n</div>"
     },
     "metadata": {},
     "execution_count": 13
    }
   ],
   "source": [
    "df"
   ]
  },
  {
   "cell_type": "code",
   "execution_count": null,
   "metadata": {},
   "outputs": [],
   "source": []
  }
 ],
 "metadata": {
  "language_info": {
   "codemirror_mode": {
    "name": "ipython",
    "version": 3
   },
   "file_extension": ".py",
   "mimetype": "text/x-python",
   "name": "python",
   "nbconvert_exporter": "python",
   "pygments_lexer": "ipython3",
   "version": "3.8.3-final"
  },
  "orig_nbformat": 2,
  "kernelspec": {
   "name": "python38364bitfb392dc5448f4bb7b35f579175b058c7",
   "display_name": "Python 3.8.3 64-bit"
  }
 },
 "nbformat": 4,
 "nbformat_minor": 2
}