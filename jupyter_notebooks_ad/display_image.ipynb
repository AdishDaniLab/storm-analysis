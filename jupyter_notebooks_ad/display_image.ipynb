{
 "cells": [
  {
   "cell_type": "markdown",
   "metadata": {},
   "source": [
    "## Image rendering \n",
    "To display/save a super-resolved image. And to convert to Insight3 format."
   ]
  },
  {
   "cell_type": "code",
   "execution_count": 6,
   "metadata": {},
   "outputs": [],
   "source": [
    "import os\n",
    "# import glob\n",
    "import tifffile\n",
    "import numpy\n",
    "import matplotlib.pyplot as plt\n",
    "\n",
    "import storm_analysis.sa_utilities.hdf5_to_image as h5_to_image\n",
    "\n",
    "os.chdir(\"D:/new-storm-data/06-02-20_brain/daostorm-analysis\")"
   ]
  },
  {
   "cell_type": "code",
   "execution_count": 16,
   "metadata": {},
   "outputs": [
    {
     "output_type": "stream",
     "name": "stdout",
     "text": "..............................\n..............................\n"
    }
   ],
   "source": [
    "# h5s = sorted(glob.glob('movie_*.hdf5'))\n",
    "# for h5 in h5s:\n",
    "h5 = 'movie_0007_daostorm.hdf5'\n",
    "img_1 = h5_to_image.render2DImage(h5, category=1, offsets = None, scale = 1, sigma = 1)\n",
    "img_2 = h5_to_image.render2DImage(h5, category=2, offsets = None, scale = 1, sigma = 1)\n",
    "pixel_size = None\n",
    "movie_name = h5.rsplit('.hdf5',1)[0][:]\n",
    "img1_name = movie_name + '_1.tif'\n",
    "img2_name = movie_name + '_2.tif'\n",
    "with tifffile.TiffWriter(img1_name) as tf:\n",
    "    if pixel_size is not None:\n",
    "        resolution = [1.0e+7/pixel_size, 1.0e+7/pixel_size, 3]\n",
    "        tf.save(img_1.astype(numpy.float32), resolution=resolution)\n",
    "    else:\n",
    "        tf.save(img_1.astype(numpy.float32))\n",
    "with tifffile.TiffWriter(img2_name) as tf:\n",
    "    if pixel_size is not None:\n",
    "        resolution = [1.0e+7/pixel_size, 1.0e+7/pixel_size, 3]\n",
    "        tf.save(img_2.astype(numpy.float32), resolution=resolution)\n",
    "    else:\n",
    "        tf.save(img_2.astype(numpy.float32))"
   ]
  },
  {
   "cell_type": "code",
   "execution_count": null,
   "metadata": {},
   "outputs": [],
   "source": []
  }
 ],
 "metadata": {
  "language_info": {
   "name": "python",
   "codemirror_mode": {
    "name": "ipython",
    "version": 3
   },
   "version": "3.7.3-final"
  },
  "orig_nbformat": 2,
  "file_extension": ".py",
  "mimetype": "text/x-python",
  "name": "python",
  "npconvert_exporter": "python",
  "pygments_lexer": "ipython3",
  "version": 3,
  "kernelspec": {
   "name": "python37364bit15611d4676c74b4bb74a270c481a0fbe",
   "display_name": "Python 3.7.3 64-bit"
  }
 },
 "nbformat": 4,
 "nbformat_minor": 2
}