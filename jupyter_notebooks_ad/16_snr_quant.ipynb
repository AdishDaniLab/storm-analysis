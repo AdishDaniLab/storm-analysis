{
 "nbformat": 4,
 "nbformat_minor": 2,
 "metadata": {
  "language_info": {
   "name": "python",
   "codemirror_mode": {
    "name": "ipython",
    "version": 3
   },
   "version": "3.7.3-final"
  },
  "orig_nbformat": 2,
  "file_extension": ".py",
  "mimetype": "text/x-python",
  "name": "python",
  "npconvert_exporter": "python",
  "pygments_lexer": "ipython3",
  "version": 3,
  "kernelspec": {
   "name": "python3",
   "display_name": "Python 3"
  }
 },
 "cells": [
  {
   "cell_type": "markdown",
   "execution_count": null,
   "metadata": {},
   "outputs": [],
   "source": [
    "## Quantifying image quality (Part 1/2)\n",
    "This is a partly manual method for looking at the contrast in an image. Images were acquired with different combinations of camera settings and this code examines which one results in better quality (solely in terms of snr).  \n",
    "Summary : Each bead in an image is detected and a 15x15 pixel roi is drawn around it to find measures like total number of photons in the signal, average photons per pixel, etc. This along with background info is used to calculate signal-to-background. Since the definition of signal-to-background varies with context, it's calculated here in 4 different ways.  \n",
    "More details can be found in report #16 (mostly after update #3)  \n",
    "Concerned data-folder : session16  \n"
   ]
  },
  {
   "cell_type": "code",
   "execution_count": null,
   "metadata": {},
   "outputs": [],
   "source": [
    "import os\n",
    "import numpy\n",
    "import glob\n",
    "import pandas as pd\n",
    "\n",
    "import storm_analysis.sa_library.datareader as datareader\n",
    "\n",
    "# Change directory\n",
    "os.chdir(\"D:/gayatri-folder/session16/ROI3\")\n",
    "\n",
    "# Load images\n",
    "# Is the full path required since I changed directory?\n",
    "images = sorted(glob.glob('D:/gayatri-folder/session16/ROI3/*.tif'))"
   ]
  },
  {
   "cell_type": "code",
   "execution_count": null,
   "metadata": {},
   "outputs": [],
   "source": [
    "# Define functions for peak finding and background calculation\n",
    "\n",
    "def findPeaks(image_ph, threshold):\n",
    "\n",
    "    peaks = []\n",
    "    bg = []\n",
    "    roi_size = 15 # Size of roi used for peak finding\n",
    "    mid = (roi_size+1)*(roi_size-1)/2\n",
    "    offset = ((roi_size-1)/2)\n",
    "    for x in range(256-(roi_size-1)) :\n",
    "                for y in range(256-(roi_size-1)) :\n",
    "                    neighbours=[]\n",
    "                    for i in range(roi_size) :\n",
    "                        for j in range(roi_size) :\n",
    "                            neighbours.append(image_ph[x+i][y+j])\n",
    "                    maxpos = neighbours.index(max(neighbours))\n",
    "\n",
    "                    # Save detected peaks.\n",
    "                    if maxpos == mid and max(neighbours)>=threshold*2:\n",
    "                        # print(neighbours)\n",
    "                        peaks.append([x+offset,y+offset,y+offset,x+offset,max(neighbours),numpy.around(numpy.mean(neighbours), decimals=3), numpy.sum(neighbours)])\n",
    "    df = pd.DataFrame(peaks, columns=['row','col','x','y','peak','avg', 'sum'])\n",
    "\n",
    "# Manually identify regions in the image which are definitely background.\n",
    "# These regions are specific to tyhe images in a folder\n",
    "# For ROI 1 !\n",
    "    # for x,y in [[30,40], [90,195], [124,110], [195,45], [200,200]] :\n",
    "# For ROI2 !\n",
    "    # for x,y in [[95,40], [178,56], [150,120], [79,185], [153,188]] :\n",
    "# For ROI 3 !\n",
    "    for x,y in [[38,40], [36,100], [73,168], [138,56], [210,179]] :\n",
    "                neighbours=[]\n",
    "                for i in range(roi_size) :\n",
    "                    for j in range(roi_size) :\n",
    "                        neighbours.append(image_ph[x+i][y+j])\n",
    "                # print(neighbours)\n",
    "                bg.append([numpy.around(numpy.mean(neighbours), decimals=3), numpy.sum(neighbours)])\n",
    "    bgr = pd.DataFrame(bg, columns=['avg', 'sum'])\n",
    "    return df, bgr\n",
    "\n",
    "def findBackground(peaks, frame):\n",
    "    mask = numpy.ma.make_mask(frame,copy=True,shrink=True,dtype=numpy.bool)\n",
    "    mask[:,:] = False\n",
    "    for i,j in peaks.iterrows():\n",
    "        mask[(int(j[0])-7):(int(j[0])+7), (int(j[1])-7):(int(j[1])+7)]=True\n",
    "    masked_image = numpy.ma.masked_array(frame, mask=mask)\n",
    "    background = numpy.ma.mean(masked_image)\n",
    "    return background, masked_image"
   ]
  },
  {
   "cell_type": "code",
   "execution_count": null,
   "metadata": {},
   "outputs": [],
   "source": [
    "# Convert counts to photons\n",
    "for img in images :\n",
    "    image = datareader.TifReader(img)\n",
    "    image = image.loadAFrame(0)\n",
    "    img_name = img.rsplit(\"\\\\\",1)[1][:].rsplit('.tif',1)[0][:]\n",
    "    print(img_name)\n",
    "    settings = {'emgain_0001':[1,4.74,200], 'emgain_0002':[20,4.74,100], 'emgain_0003':[40,4.74,100], 'emgain_0004':[60,4.74,100], 'emgain_0005':[80,4.74,100], 'emgain_0006':[100,4.74,100], 'emgain_extra_0030':[30,4.74,100], 'emgain_extra_0065':[65,4.74,100], 'preamp_0001':[65, 16.2, 100], 'preamp_0002':[65, 8.14, 100], 'preamp_0003':[65, 4.74, 100], 'vsspeed_0002':[65,4.74,100], 'vsspeed_0003':[65,4.74,100], 'vsspeed_0004':[65,4.74,100], 'vsspeed_0005':[65,4.74,100]}\n",
    "    \n",
    "    if img_name in settings:\n",
    "        em_gain = settings[img_name][0]\n",
    "        preamp_gain = settings[img_name][1]\n",
    "        threshold = settings[img_name][2]\n",
    "\n",
    "    bias = 500.0\n",
    "    qe = 0.9\n",
    "    image_ph = numpy.around(numpy.where(image >= bias, ((image-bias)*preamp_gain)/(em_gain*qe), 1))\n",
    "    peaks, bgr = findPeaks(image_ph, threshold=threshold)\n",
    "    peaks_counts, bgr_counts = findPeaks(image, threshold=450)\n",
    "    # bg, masked_image = findBackground(peaks, image_ph)\n",
    "    background_sum = bgr['sum'].mean()\n",
    "    background_avg = bgr['avg'].mean()\n",
    "    background_sum_counts = bgr_counts['sum'].mean()\n",
    "    background_avg_counts = bgr_counts['avg'].mean()\n",
    "    print('Background = ', numpy.around(bgr['avg'].mean(), decimals = 1), ' photons')\n",
    "    peaks['snr1'] = numpy.around(peaks['sum'].div(background_sum), decimals=3)\n",
    "    peaks['snr2'] = numpy.around(peaks['sum'].div(background_avg), decimals=3)\n",
    "    peaks['snr3'] = numpy.around(peaks['avg'].div(background_avg), decimals=3)\n",
    "    peaks['snr4'] = numpy.around(peaks_counts['avg'].div(background_avg_counts), decimals=3)\n",
    "    peaks.to_csv(\"peaks_\"+img_name+\".csv\", header=['row','col','x','y','peak_ph','avg_ph', 'sum_ph', 'snr1', 'snr2', 'snr3', 'snr4'], index=False)\n",
    "    # peaks_counts.to_csv(\"counts_\"+img_name+\".csv\", header=['row','col','x','y','peak','avg', 'sum'], index=False)"
   ]
  },
  {
   "cell_type": "code",
   "execution_count": null,
   "metadata": {},
   "outputs": [],
   "source": [
    "os.chdir(\"D:/gayatri-folder/session16/ROI3\")\n",
    "\n",
    "# Load csv files\n",
    "csv_files = sorted(glob.glob('D:/gayatri-folder/session16/ROI3/peaks_*.csv'))"
   ]
  },
  {
   "cell_type": "code",
   "execution_count": null,
   "metadata": {},
   "outputs": [],
   "source": [
    "dataframes = []\n",
    "for file in csv_files:\n",
    "    df = pd.read_csv(file) # additional arguments up to your need\n",
    "    df['exp'] = file.rsplit(\"\\\\\",1)[1][:].rsplit('.csv',1)[0][:]\n",
    "    dataframes.append(df)\n",
    "all_of_em = pd.concat(dataframes)"
   ]
  },
  {
   "cell_type": "code",
   "execution_count": null,
   "metadata": {},
   "outputs": [],
   "source": [
    "all_of_em['exp'] = all_of_em['exp'].replace(['peaks_emgain_0001', 'peaks_emgain_0002', 'peaks_emgain_0003', 'peaks_emgain_0004', 'peaks_emgain_0005', 'peaks_emgain_0006', 'peaks_emgain_extra_0030', 'peaks_emgain_extra_0065', 'peaks_preamp_0001', 'peaks_preamp_0002', 'peaks_preamp_0003', 'peaks_vsspeed_0002', 'peaks_vsspeed_0003','peaks_vsspeed_0004', 'peaks_vsspeed_0005'], ['EM Gain 1', 'EM Gain 20', 'EM Gain 40', 'EM Gain 60', 'EM Gain 80', 'EM Gain 100', 'EM Gain 30', 'EM Gain 65', 'Preamp 1', 'Preamp 2', 'Preamp 3', 'vsspeed 0.5', 'vsspeed 0.7','vsspeed 1.5', 'vsspeed 3.3'])\n",
    "all_of_em.to_csv(\"all.csv\", header=['row','col','x','y','peak_ph','avg_ph', 'sum_ph', 'snr1', 'snr2', 'snr3', 'snr4', 'exp'],index=False)"
   ]
  }
 ]
}