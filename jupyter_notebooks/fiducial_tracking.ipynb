{
 "cells": [
  {
   "cell_type": "markdown",
   "metadata": {},
   "source": [
    "## Fiducial tracking\n",
    "\n",
    "In this example we'll discuss how to do fiducial tracking for drift correction."
   ]
  },
  {
   "cell_type": "markdown",
   "metadata": {},
   "source": [
    "### Configuration\n",
    "\n",
    "In real experiments you'd have fiducials that you were also imaging, either in the same color channel as the data, or in a different color channel. You would then create two localization files, one that at least mostly contains the locations of the fiducials, and another file that contains all the localizations."
   ]
  },
  {
   "cell_type": "code",
   "execution_count": 1,
   "metadata": {},
   "outputs": [
    {
     "name": "stdout",
     "output_type": "stream",
     "text": [
      "/home/hbabcock/Data/storm_analysis/jy_testing\n"
     ]
    }
   ],
   "source": [
    "import os\n",
    "os.chdir(\"/home/hbabcock/Data/storm_analysis/jy_testing/\")\n",
    "print(os.getcwd())\n",
    "\n",
    "import numpy\n",
    "numpy.random.seed(1) # Set seed so that the example is repeatable."
   ]
  },
  {
   "cell_type": "markdown",
   "metadata": {},
   "source": [
    "Generate sample data for this example."
   ]
  },
  {
   "cell_type": "code",
   "execution_count": 2,
   "metadata": {},
   "outputs": [
    {
     "name": "stderr",
     "output_type": "stream",
     "text": [
      "/home/hbabcock/pyenv/jupyter/lib/python3.6/site-packages/h5py/__init__.py:36: FutureWarning: Conversion of the second argument of issubdtype from `float` to `np.floating` is deprecated. In future, it will be treated as `np.float64 == np.dtype(float).type`.\n",
      "  from ._conv import register_converters as _register_converters\n"
     ]
    },
    {
     "name": "stdout",
     "output_type": "stream",
     "text": [
      "Creating random localizations.\n",
      "Frame 0 16 emitters\n",
      "Frame 1 25 emitters\n",
      "Frame 2 27 emitters\n",
      "Frame 3 28 emitters\n",
      "Frame 4 28 emitters\n",
      "Frame 5 28 emitters\n",
      "Frame 6 28 emitters\n",
      "Frame 7 28 emitters\n",
      "Frame 8 27 emitters\n",
      "Frame 9 27 emitters\n",
      "Frame 10 26 emitters\n",
      "Frame 11 25 emitters\n",
      "Frame 12 27 emitters\n",
      "Frame 13 27 emitters\n",
      "Frame 14 28 emitters\n",
      "Frame 15 28 emitters\n",
      "Frame 16 27 emitters\n",
      "Frame 17 26 emitters\n",
      "Frame 18 27 emitters\n",
      "Frame 19 26 emitters\n",
      "Frame 20 26 emitters\n",
      "Frame 21 26 emitters\n",
      "Frame 22 26 emitters\n",
      "Frame 23 27 emitters\n",
      "Frame 24 27 emitters\n",
      "Frame 25 26 emitters\n",
      "Frame 26 27 emitters\n",
      "Frame 27 26 emitters\n",
      "Frame 28 25 emitters\n",
      "Frame 29 27 emitters\n",
      "Frame 30 28 emitters\n",
      "Frame 31 26 emitters\n",
      "Frame 32 27 emitters\n",
      "Frame 33 27 emitters\n",
      "Frame 34 25 emitters\n",
      "Frame 35 27 emitters\n",
      "Frame 36 27 emitters\n",
      "Frame 37 26 emitters\n",
      "Frame 38 26 emitters\n",
      "Frame 39 28 emitters\n",
      "Frame 40 27 emitters\n",
      "Frame 41 28 emitters\n",
      "Frame 42 28 emitters\n",
      "Frame 43 28 emitters\n",
      "Frame 44 28 emitters\n",
      "Frame 45 26 emitters\n",
      "Frame 46 26 emitters\n",
      "Frame 47 28 emitters\n",
      "Frame 48 28 emitters\n",
      "Frame 49 28 emitters\n",
      "Frame 50 28 emitters\n",
      "Frame 51 27 emitters\n",
      "Frame 52 25 emitters\n",
      "Frame 53 27 emitters\n",
      "Frame 54 27 emitters\n",
      "Frame 55 27 emitters\n",
      "Frame 56 26 emitters\n",
      "Frame 57 27 emitters\n",
      "Frame 58 28 emitters\n",
      "Frame 59 27 emitters\n",
      "Frame 60 25 emitters\n",
      "Frame 61 25 emitters\n",
      "Frame 62 27 emitters\n",
      "Frame 63 27 emitters\n",
      "Frame 64 28 emitters\n",
      "Frame 65 28 emitters\n",
      "Frame 66 28 emitters\n",
      "Frame 67 26 emitters\n",
      "Frame 68 27 emitters\n",
      "Frame 69 26 emitters\n",
      "Frame 70 28 emitters\n",
      "Frame 71 28 emitters\n",
      "Frame 72 28 emitters\n",
      "Frame 73 28 emitters\n",
      "Frame 74 28 emitters\n",
      "Frame 75 28 emitters\n",
      "Frame 76 28 emitters\n",
      "Frame 77 25 emitters\n",
      "Frame 78 26 emitters\n",
      "Frame 79 27 emitters\n",
      "Frame 80 27 emitters\n",
      "Frame 81 25 emitters\n",
      "Frame 82 26 emitters\n",
      "Frame 83 28 emitters\n",
      "Frame 84 27 emitters\n",
      "Frame 85 25 emitters\n",
      "Frame 86 27 emitters\n",
      "Frame 87 28 emitters\n",
      "Frame 88 27 emitters\n",
      "Frame 89 27 emitters\n",
      "Frame 90 27 emitters\n",
      "Frame 91 28 emitters\n",
      "Frame 92 28 emitters\n",
      "Frame 93 27 emitters\n",
      "Frame 94 27 emitters\n",
      "Frame 95 28 emitters\n",
      "Frame 96 28 emitters\n",
      "Frame 97 27 emitters\n",
      "Frame 98 27 emitters\n",
      "Frame 99 27 emitters\n"
     ]
    }
   ],
   "source": [
    "import storm_analysis.jupyter_examples.fiducial_tracking as fiducial_tracking\n",
    "\n",
    "# Make a simulated movie.\n",
    "fiducial_tracking.makeSampleData()\n",
    "\n",
    "# Make a 3D-DAOSTORM analysis XML file.\n",
    "fiducial_tracking.daoSTORMXML()\n"
   ]
  },
  {
   "cell_type": "markdown",
   "metadata": {},
   "source": [
    "### Analyze fiducials with 3D-DAOSTORM"
   ]
  },
  {
   "cell_type": "code",
   "execution_count": 3,
   "metadata": {},
   "outputs": [
    {
     "name": "stdout",
     "output_type": "stream",
     "text": [
      "\n",
      "Peak finding\n",
      " Removing values < 1.0 in frame 0\n",
      "Frame: 0 15 15\n",
      " Removing values < 1.0 in frame 1\n",
      "Frame: 1 24 39\n",
      " Removing values < 1.0 in frame 2\n",
      "Frame: 2 27 66\n",
      " Removing values < 1.0 in frame 3\n",
      "Frame: 3 28 94\n",
      " Removing values < 1.0 in frame 4\n",
      "Frame: 4 28 122\n",
      " Removing values < 1.0 in frame 5\n",
      "Frame: 5 28 150\n",
      " Removing values < 1.0 in frame 6\n",
      "Frame: 6 28 178\n",
      " Removing values < 1.0 in frame 7\n",
      "Frame: 7 28 206\n",
      " Removing values < 1.0 in frame 8\n",
      "Frame: 8 27 233\n",
      " Removing values < 1.0 in frame 9\n",
      "Frame: 9 27 260\n",
      " Removing values < 1.0 in frame 10\n",
      "Frame: 10 26 286\n",
      " Removing values < 1.0 in frame 11\n",
      "Frame: 11 25 311\n",
      " Removing values < 1.0 in frame 12\n",
      "Frame: 12 27 338\n",
      " Removing values < 1.0 in frame 13\n",
      "Frame: 13 27 365\n",
      " Removing values < 1.0 in frame 14\n",
      "Frame: 14 28 393\n",
      " Removing values < 1.0 in frame 15\n",
      "Frame: 15 28 421\n",
      " Removing values < 1.0 in frame 16\n",
      "Frame: 16 27 448\n",
      "Frame: 17 26 474\n",
      " Removing values < 1.0 in frame 18\n",
      "Frame: 18 26 500\n",
      " Removing values < 1.0 in frame 19\n",
      "Frame: 19 26 526\n",
      " Removing values < 1.0 in frame 20\n",
      "Frame: 20 26 552\n",
      " Removing values < 1.0 in frame 21\n",
      "Frame: 21 26 578\n",
      " Removing values < 1.0 in frame 22\n",
      "Frame: 22 25 603\n",
      " Removing values < 1.0 in frame 23\n",
      "Frame: 23 27 630\n",
      " Removing values < 1.0 in frame 24\n",
      "Frame: 24 27 657\n",
      " Removing values < 1.0 in frame 25\n",
      "Frame: 25 26 683\n",
      " Removing values < 1.0 in frame 26\n",
      "Frame: 26 25 708\n",
      "Frame: 27 26 734\n",
      " Removing values < 1.0 in frame 28\n",
      "Frame: 28 25 759\n",
      " Removing values < 1.0 in frame 29\n",
      "Frame: 29 27 786\n",
      " Removing values < 1.0 in frame 30\n",
      "Frame: 30 27 813\n",
      " Removing values < 1.0 in frame 31\n",
      "Frame: 31 26 839\n",
      " Removing values < 1.0 in frame 32\n",
      "Frame: 32 27 866\n",
      "Frame: 33 27 893\n",
      " Removing values < 1.0 in frame 34\n",
      "Frame: 34 25 918\n",
      " Removing values < 1.0 in frame 35\n",
      "Frame: 35 27 945\n",
      " Removing values < 1.0 in frame 36\n",
      "Frame: 36 27 972\n",
      " Removing values < 1.0 in frame 37\n",
      "Frame: 37 26 998\n",
      " Removing values < 1.0 in frame 38\n",
      "Frame: 38 26 1024\n",
      " Removing values < 1.0 in frame 39\n",
      "Frame: 39 28 1052\n",
      " Removing values < 1.0 in frame 40\n",
      "Frame: 40 27 1079\n",
      " Removing values < 1.0 in frame 41\n",
      "Frame: 41 28 1107\n",
      " Removing values < 1.0 in frame 42\n",
      "Frame: 42 28 1135\n",
      " Removing values < 1.0 in frame 43\n",
      "Frame: 43 28 1163\n",
      "Frame: 44 28 1191\n",
      " Removing values < 1.0 in frame 45\n",
      "Frame: 45 26 1217\n",
      " Removing values < 1.0 in frame 46\n",
      "Frame: 46 26 1243\n",
      " Removing values < 1.0 in frame 47\n",
      "Frame: 47 28 1271\n",
      "Frame: 48 28 1299\n",
      "Frame: 49 28 1327\n",
      " Removing values < 1.0 in frame 50\n",
      "Frame: 50 28 1355\n",
      " Removing values < 1.0 in frame 51\n",
      "Frame: 51 27 1382\n",
      " Removing values < 1.0 in frame 52\n",
      "Frame: 52 25 1407\n",
      " Removing values < 1.0 in frame 53\n",
      "Frame: 53 27 1434\n",
      " Removing values < 1.0 in frame 54\n",
      "Frame: 54 26 1460\n",
      " Removing values < 1.0 in frame 55\n",
      "Frame: 55 27 1487\n",
      "Frame: 56 26 1513\n",
      " Removing values < 1.0 in frame 57\n",
      "Frame: 57 27 1540\n",
      " Removing values < 1.0 in frame 58\n",
      "Frame: 58 27 1567\n",
      " Removing values < 1.0 in frame 59\n",
      "Frame: 59 27 1594\n",
      " Removing values < 1.0 in frame 60\n",
      "Frame: 60 25 1619\n",
      " Removing values < 1.0 in frame 61\n",
      "Frame: 61 25 1644\n",
      " Removing values < 1.0 in frame 62\n",
      "Frame: 62 27 1671\n",
      " Removing values < 1.0 in frame 63\n",
      "Frame: 63 27 1698\n",
      " Removing values < 1.0 in frame 64\n",
      "Frame: 64 28 1726\n",
      " Removing values < 1.0 in frame 65\n",
      "Frame: 65 28 1754\n",
      " Removing values < 1.0 in frame 66\n",
      "Frame: 66 28 1782\n",
      " Removing values < 1.0 in frame 67\n",
      "Frame: 67 26 1808\n",
      " Removing values < 1.0 in frame 68\n",
      "Frame: 68 27 1835\n",
      " Removing values < 1.0 in frame 69\n",
      "Frame: 69 26 1861\n",
      " Removing values < 1.0 in frame 70\n",
      "Frame: 70 28 1889\n",
      " Removing values < 1.0 in frame 71\n",
      "Frame: 71 28 1917\n",
      " Removing values < 1.0 in frame 72\n",
      "Frame: 72 28 1945\n",
      " Removing values < 1.0 in frame 73\n",
      "Frame: 73 28 1973\n",
      " Removing values < 1.0 in frame 74\n",
      "Frame: 74 28 2001\n",
      " Removing values < 1.0 in frame 75\n",
      "Frame: 75 28 2029\n",
      " Removing values < 1.0 in frame 76\n",
      "Frame: 76 28 2057\n",
      " Removing values < 1.0 in frame 77\n",
      "Frame: 77 25 2082\n",
      " Removing values < 1.0 in frame 78\n",
      "Frame: 78 26 2108\n",
      " Removing values < 1.0 in frame 79\n",
      "Frame: 79 27 2135\n",
      " Removing values < 1.0 in frame 80\n",
      "Frame: 80 27 2162\n",
      " Removing values < 1.0 in frame 81\n",
      "Frame: 81 25 2187\n",
      " Removing values < 1.0 in frame 82\n",
      "Frame: 82 26 2213\n",
      " Removing values < 1.0 in frame 83\n",
      "Frame: 83 28 2241\n",
      " Removing values < 1.0 in frame 84\n",
      "Frame: 84 25 2266\n",
      " Removing values < 1.0 in frame 85\n",
      "Frame: 85 25 2291\n",
      " Removing values < 1.0 in frame 86\n",
      "Frame: 86 27 2318\n",
      " Removing values < 1.0 in frame 87\n",
      "Frame: 87 28 2346\n",
      " Removing values < 1.0 in frame 88\n",
      "Frame: 88 27 2373\n",
      " Removing values < 1.0 in frame 89\n",
      "Frame: 89 27 2400\n",
      " Removing values < 1.0 in frame 90\n",
      "Frame: 90 27 2427\n",
      " Removing values < 1.0 in frame 91\n",
      "Frame: 91 27 2454\n",
      " Removing values < 1.0 in frame 92\n",
      "Frame: 92 28 2482\n",
      " Removing values < 1.0 in frame 93\n",
      "Frame: 93 26 2508\n",
      " Removing values < 1.0 in frame 94\n",
      "Frame: 94 27 2535\n",
      " Removing values < 1.0 in frame 95\n",
      "Frame: 95 28 2563\n",
      " Removing values < 1.0 in frame 96\n",
      "Frame: 96 28 2591\n",
      " Removing values < 1.0 in frame 97\n",
      "Frame: 97 27 2618\n",
      " Removing values < 1.0 in frame 98\n",
      "Frame: 98 26 2644\n",
      " Removing values < 1.0 in frame 99\n",
      "Frame: 99 27 2671\n",
      "\n",
      "Added 2671\n",
      "   100 peak finding iterations.\n",
      "\n",
      "   0 fits reset due to Cholesky failure.\n",
      "   0 fits reset due to image margin.\n",
      "   0 fits reset due to negative value in fit function.\n",
      "   0 fits reset due to negative height.\n",
      "   0 fits reset due to non-decreasing error (LM).\n",
      "   0 fits did not converge.\n",
      "   0 fits were lost.\n",
      "   0 peaks lost to proximity filter.\n",
      "   0 peaks lost to low significance.\n",
      "   24008 fitting iterations.\n",
      "\n",
      "Tracking.\n",
      "\n",
      "Checking z values.\n",
      "\n",
      "Analysis complete\n"
     ]
    }
   ],
   "source": [
    "import storm_analysis.daostorm_3d.mufit_analysis as mfit\n",
    "\n",
    "if os.path.exists(\"fiducials.hdf5\"):\n",
    "    os.remove(\"fiducials.hdf5\")\n",
    "    \n",
    "mfit.analyze(\"fiducials.tif\", \"fiducials.hdf5\", \"daostorm.xml\")"
   ]
  },
  {
   "cell_type": "markdown",
   "metadata": {},
   "source": [
    "### Track fiducials"
   ]
  },
  {
   "cell_type": "code",
   "execution_count": 4,
   "metadata": {},
   "outputs": [
    {
     "name": "stdout",
     "output_type": "stream",
     "text": [
      " processing frame 0, 28 fiducials\n"
     ]
    }
   ],
   "source": [
    "import storm_analysis.sa_utilities.fiducials as fiducials\n",
    "\n",
    "# max_gap - Number of after which a fiducial will be considered to be lost.\n",
    "# radius - Matching radius in pixels.\n",
    "# reference_frame - Localizations from this frame will all be treated as fiducials.\n",
    "#\n",
    "fiducials.trackFiducials(\"fiducials.hdf5\", max_gap = 4, radius = 1, reference_frame = 4)"
   ]
  },
  {
   "cell_type": "markdown",
   "metadata": {},
   "source": [
    "### Plot results"
   ]
  },
  {
   "cell_type": "code",
   "execution_count": 5,
   "metadata": {},
   "outputs": [
    {
     "data": {
      "image/png": "[encoded data removed]",
      "text/plain": [
       "<Figure size 432x288 with 1 Axes>"
      ]
     },
     "metadata": {},
     "output_type": "display_data"
    }
   ],
   "source": [
    "import matplotlib.pyplot as pyplot\n",
    "\n",
    "with fiducials.SAH5Fiducials(\"fiducials.hdf5\") as h5:\n",
    "    fdcl = h5.getFiducial(1, fields = [\"x\", \"y\"])\n",
    "    \n",
    "    x = fdcl[\"x\"] - numpy.mean(fdcl[\"x\"])\n",
    "    y = fdcl[\"y\"] - numpy.mean(fdcl[\"y\"])\n",
    "    \n",
    "    pyplot.plot(fdcl[\"frame\"], x)\n",
    "    pyplot.plot(fdcl[\"frame\"], y)\n",
    "    pyplot.show()\n",
    "    "
   ]
  },
  {
   "cell_type": "markdown",
   "metadata": {},
   "source": [
    "### Measure the drift\n",
    "\n",
    "We'll do this by averaging together all of the fiducials."
   ]
  },
  {
   "cell_type": "code",
   "execution_count": 6,
   "metadata": {},
   "outputs": [
    {
     "name": "stdout",
     "output_type": "stream",
     "text": [
      "25 fiducials were used out of 28 were used.\n"
     ]
    }
   ],
   "source": [
    "import scipy\n",
    "import scipy.interpolate\n",
    "\n",
    "x_drift = None\n",
    "y_drift = None\n",
    "\n",
    "with fiducials.SAH5Fiducials(\"fiducials.hdf5\") as h5:\n",
    "    ml = h5.getMovieLength()\n",
    "    x = numpy.arange(ml)\n",
    "    x_drift = numpy.zeros(ml)\n",
    "    y_drift = numpy.zeros(ml)\n",
    "    \n",
    "    n_fiducials = 0\n",
    "    for fdcl in h5.fiducialsIterator(fields = [\"x\", \"y\"]):\n",
    "\n",
    "        # Verify this fiducial was present in most of the frames.\n",
    "        if (fdcl[\"frame\"].size < int(0.9 * ml)):\n",
    "            continue\n",
    "        \n",
    "        # Use linear interpolation to fill in missing values.\n",
    "        xpos_int = scipy.interpolate.interp1d(fdcl[\"frame\"], \n",
    "                                              fdcl[\"x\"], \n",
    "                                              kind = 'linear', \n",
    "                                              fill_value = 'extrapolate')\n",
    "        \n",
    "        ypos_int = scipy.interpolate.interp1d(fdcl[\"frame\"], \n",
    "                                              fdcl[\"y\"], \n",
    "                                              kind = 'linear', \n",
    "                                              fill_value = 'extrapolate')\n",
    "\n",
    "        x_drift += xpos_int(x)\n",
    "        y_drift += ypos_int(x)\n",
    "        n_fiducials += 1\n",
    "        \n",
    "    print(n_fiducials, \"fiducials were usedout of\", h5.getNFiducials(), \"were used.\")\n",
    "    x_drift = x_drift/(float(n_fiducials))\n",
    "    y_drift = y_drift/(float(n_fiducials))        "
   ]
  },
  {
   "cell_type": "markdown",
   "metadata": {},
   "source": [
    "Since this a pretty common operation, the SAH5Fiducials class also provides this as a method."
   ]
  },
  {
   "cell_type": "code",
   "execution_count": 7,
   "metadata": {},
   "outputs": [
    {
     "name": "stdout",
     "output_type": "stream",
     "text": [
      "25 fiducials were used out of 28 were used.\n",
      "\n",
      "x difference 0.000\n",
      "y difference 0.000\n"
     ]
    }
   ],
   "source": [
    "with fiducials.SAH5Fiducials(\"fiducials.hdf5\") as h5:\n",
    "    [ave_fdcl, n_averaged] = h5.averageFiducials(fields = [\"x\", \"y\"], min_frac_occupancy = 0.9)\n",
    "    print(n_fiducials, \"fiducials were used out of\", h5.getNFiducials(), \"were used.\")\n",
    "\n",
    "print()\n",
    "print(\"x difference {0:.3f}\".format(numpy.max(numpy.abs(ave_fdcl[\"x\"] - x_drift))))\n",
    "print(\"y difference {0:.3f}\".format(numpy.max(numpy.abs(ave_fdcl[\"y\"] - y_drift))))\n",
    "x_drift -= x_drift[0]\n"
   ]
  },
  {
   "cell_type": "markdown",
   "metadata": {},
   "source": [
    "### Compare with ground truth"
   ]
  },
  {
   "cell_type": "code",
   "execution_count": 8,
   "metadata": {},
   "outputs": [
    {
     "data": {
      "image/png": "[encoded data removed]",
      "text/plain": [
       "<Figure size 432x288 with 1 Axes>"
      ]
     },
     "metadata": {},
     "output_type": "display_data"
    },
    {
     "name": "stdout",
     "output_type": "stream",
     "text": [
      "Mean x error: 0.006243 pixels\n"
     ]
    },
    {
     "data": {
      "image/png": "[encoded data removed]",
      "text/plain": [
       "<Figure size 432x288 with 1 Axes>"
      ]
     },
     "metadata": {},
     "output_type": "display_data"
    },
    {
     "name": "stdout",
     "output_type": "stream",
     "text": [
      "Mean y error: 0.020435 pixels\n"
     ]
    }
   ],
   "source": [
    "gt_drift = numpy.loadtxt(\"drift.txt\")\n",
    "\n",
    "gt_x = gt_drift[:,0] - gt_drift[0,0]\n",
    "x_drift -= x_drift[0]\n",
    "pyplot.plot(gt_x, color = \"black\")\n",
    "pyplot.scatter(numpy.arange(x_drift.size), x_drift, s = 10)\n",
    "pyplot.show()\n",
    "print(\"Mean x error: {0:3f} pixels\".format(numpy.mean(numpy.abs(gt_x - x_drift))))\n",
    "\n",
    "gt_y = gt_drift[:,1] - gt_drift[0,1]\n",
    "y_drift -= y_drift[0]\n",
    "pyplot.plot(gt_y, color = \"black\")\n",
    "pyplot.scatter(numpy.arange(y_drift.size), y_drift, s = 10)\n",
    "pyplot.show()\n",
    "print(\"Mean y error: {0:3f} pixels\".format(numpy.mean(numpy.abs(gt_y - y_drift))))\n"
   ]
  },
  {
   "cell_type": "markdown",
   "metadata": {},
   "source": [
    "### Apply drift correction and verify\n",
    "\n",
    "Here we're just applying it to the fiducial data file. Normally you'd probably apply it to the localizations data file."
   ]
  },
  {
   "cell_type": "code",
   "execution_count": 9,
   "metadata": {},
   "outputs": [],
   "source": [
    "import storm_analysis.sa_library.sa_h5py as saH5Py\n",
    "\n",
    "with saH5Py.SAH5Py(\"fiducials.hdf5\") as h5:\n",
    "    for i in range(x_drift.size):\n",
    "        h5.setDriftCorrection(i, dx = -x_drift[i], dy = -y_drift[i])"
   ]
  },
  {
   "cell_type": "code",
   "execution_count": 10,
   "metadata": {},
   "outputs": [
    {
     "name": "stdout",
     "output_type": "stream",
     "text": [
      "Uncorrected: 0.997 pixels\n",
      "Corrected: 0.034 pixels\n"
     ]
    }
   ],
   "source": [
    "with fiducials.SAH5Fiducials(\"fiducials.hdf5\") as h5:\n",
    "    fdcl = h5.getFiducial(1, fields = [\"x\"])\n",
    "    print(\"Uncorrected: {0:.3f} pixels\".format(numpy.std(fdcl[\"x\"])))\n",
    "    \n",
    "    fdcl = h5.getFiducial(1, drift_corrected = True, fields = [\"x\"])\n",
    "    print(\"Corrected: {0:.3f} pixels\".format(numpy.std(fdcl[\"x\"])))"
   ]
  },
  {
   "cell_type": "code",
   "execution_count": null,
   "metadata": {},
   "outputs": [],
   "source": []
  }
 ],
 "metadata": {
  "kernelspec": {
   "display_name": "Python 3",
   "language": "python",
   "name": "python3"
  },
  "language_info": {
   "codemirror_mode": {
    "name": "ipython",
    "version": 3
   },
   "file_extension": ".py",
   "mimetype": "text/x-python",
   "name": "python",
   "nbconvert_exporter": "python",
   "pygments_lexer": "ipython3",
   "version": "3.6.5"
  }
 },
 "nbformat": 4,
 "nbformat_minor": 2
}
