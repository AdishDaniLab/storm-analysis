{
 "cells": [
  {
   "cell_type": "markdown",
   "metadata": {},
   "source": [
    "## Z Calibration for 3D-DAOSTORM (and sCMOS)."
   ]
  },
  {
   "cell_type": "markdown",
   "metadata": {},
   "source": [
    "### Configuration\n",
    "\n",
    "To perform z-calibration you need a movie of (small) fluorescent bead or single blinking dye molecules on a flat surface such as a coverslip. \n",
    "\n",
    "In this example we'll simulate blinking dyes on a coverslip. The PSF is created using the pupil function approach and is purely astigmatic.\n",
    "\n",
    "Create an empty directory and change to that directory."
   ]
  },
  {
   "cell_type": "code",
   "execution_count": null,
   "metadata": {},
   "outputs": [],
   "source": [
    "import os\n",
    "os.chdir(\"/home/hbabcock/Data/storm_analysis/jy_testing/\")\n",
    "print(os.getcwd())"
   ]
  },
  {
   "cell_type": "markdown",
   "metadata": {},
   "source": [
    "Generate sample data for this example."
   ]
  },
  {
   "cell_type": "code",
   "execution_count": null,
   "metadata": {},
   "outputs": [],
   "source": [
    "import storm_analysis.jupyter_examples.dao3d_zcal as dao3d_zcal\n",
    "dao3d_zcal.configure()"
   ]
  },
  {
   "cell_type": "markdown",
   "metadata": {},
   "source": [
    "### 3D-DAOSTORM analysis of the calibration movie"
   ]
  },
  {
   "cell_type": "markdown",
   "metadata": {},
   "source": [
    "Set parameters for 3D-DAOSTORM analysis. Note the analysis is done using the `3d` PSF model, a Gaussian with independent widths in X/Y."
   ]
  },
  {
   "cell_type": "code",
   "execution_count": null,
   "metadata": {},
   "outputs": [],
   "source": [
    "import storm_analysis.sa_library.parameters as params\n",
    "\n",
    "# Load the parameters.\n",
    "daop = params.ParametersDAO().initFromFile(\"example.xml\")\n",
    "\n",
    "# Set for a single iteration, we don't want multiple iterations of peak finding\n",
    "# as could cause stretched peaks to get split in half.\n",
    "daop.changeAttr(\"iterations\", 1)\n",
    "\n",
    "# Use a large find max radius. This also reduces peak splitting.\n",
    "daop.changeAttr(\"find_max_radius\", 10)\n",
    "\n",
    "# Use a higher threshold so that we don't get the dimmer localizations.\n",
    "daop.changeAttr(\"threshold\", 18)\n",
    "\n",
    "# Don't do tracking or drift correction.\n",
    "daop.changeAttr(\"radius\", 0.0)\n",
    "daop.changeAttr(\"drift_correction\", 0)\n",
    "\n",
    "# Save the changed parameters.\n",
    "daop.toXMLFile(\"calibration.xml\")\n"
   ]
  },
  {
   "cell_type": "markdown",
   "metadata": {},
   "source": [
    "Analyze the calibration movie with 3D-DAOSTORM"
   ]
  },
  {
   "cell_type": "code",
   "execution_count": null,
   "metadata": {},
   "outputs": [],
   "source": [
    "import os\n",
    "import storm_analysis.daostorm_3d.mufit_analysis as mfit\n",
    "\n",
    "if os.path.exists(\"calib.hdf5\"):\n",
    "    os.remove(\"calib.hdf5\")\n",
    "    \n",
    "mfit.analyze(\"calib.tif\", \"calib.hdf5\", \"calibration.xml\")\n"
   ]
  },
  {
   "cell_type": "markdown",
   "metadata": {},
   "source": [
    "Check results with with overlay images."
   ]
  },
  {
   "cell_type": "code",
   "execution_count": null,
   "metadata": {},
   "outputs": [],
   "source": [
    "# Overlay image at z near zero.\n",
    "import storm_analysis.jupyter_examples.overlay_image as overlay_image\n",
    "\n",
    "overlay_image.overlayImage(\"calib.tif\", \"calib.hdf5\", 40)\n"
   ]
  },
  {
   "cell_type": "markdown",
   "metadata": {},
   "source": [
    "### Z calibration"
   ]
  },
  {
   "cell_type": "markdown",
   "metadata": {},
   "source": [
    "First we will need a file containing the z-offsets for each frame. This file contains two columns, the first is whether or not the data in this frame should be used (0 = No, 1 = Yes) and the second contains the z offset in microns."
   ]
  },
  {
   "cell_type": "code",
   "execution_count": null,
   "metadata": {},
   "outputs": [],
   "source": [
    "import numpy\n",
    "\n",
    "# In this simulation the z range went from -0.6 microns to 0.6 microns on 10nm steps.\n",
    "z_range = dao3d_zcal.z_range\n",
    "z_offsets = numpy.arange(-z_range, z_range + 0.001, 0.01)\n",
    "valid = numpy.ones(z_offsets.size)\n",
    "\n",
    "# Limit the z range to +- 0.4um.\n",
    "mask = (numpy.abs(z_offsets) > 0.4)\n",
    "valid[mask] = 0.0\n",
    "\n",
    "numpy.savetxt(\"z_offsets.txt\", numpy.transpose(numpy.vstack((valid, z_offsets))))\n"
   ]
  },
  {
   "cell_type": "markdown",
   "metadata": {},
   "source": [
    "Plot Wx / Wy versus Z curves."
   ]
  },
  {
   "cell_type": "code",
   "execution_count": null,
   "metadata": {},
   "outputs": [],
   "source": [
    "import matplotlib\n",
    "import matplotlib.pyplot as pyplot\n",
    "\n",
    "# Change default figure size.\n",
    "matplotlib.rcParams['figure.figsize'] = (8,6)\n",
    "\n",
    "import storm_analysis.daostorm_3d.z_calibration as z_cal\n",
    "\n",
    "[wx, wy, z, pixel_size] = z_cal.loadWxWyZData(\"calib.hdf5\", \"z_offsets.txt\")\n",
    "\n",
    "pyplot.scatter(z, wx, color = 'r')\n",
    "pyplot.scatter(z, wy, color = 'b')\n",
    "pyplot.show()"
   ]
  },
  {
   "cell_type": "markdown",
   "metadata": {},
   "source": [
    "Now measure Z calibration curves. We'll do a second order fit, i.e. A,B will be fit, but not C,D.\n",
    "\n",
    "FIXME: MathJax defocusing curve formula here.\n",
    "\n",
    "Note - The fitting is not super robust, so you may have to play with `fit_order` and `p_start` to get it to work. Usually it will work for `fit_order = 0`, but then it might fail for `fit_order = 1` but succeed for `fit_order = 2`."
   ]
  },
  {
   "cell_type": "code",
   "execution_count": null,
   "metadata": {},
   "outputs": [],
   "source": [
    "fit_order = 2\n",
    "outliers = 3.0 # Sigma to be considered an outlier.\n",
    "\n",
    "# Initial guess, this is optional, but might be necessary if your setup is\n",
    "# significantly different from what storm-analysis expects.\n",
    "#\n",
    "# It can also help to boot-strap to higher fitting orders.\n",
    "#\n",
    "p_start = [3.2,0.19,0.3]\n",
    "\n",
    "# Fit curves\n",
    "print(\"Fitting (round 1).\")\n",
    "[wx_params, wy_params] = z_cal.fitDefocusingCurves(wx, wy, z, n_additional = 0, z_params = p_start)\n",
    "print(wx_params)\n",
    "p_start = wx_params[:3]\n",
    "\n",
    "# Fit curves.\n",
    "print(\"Fitting (round 2).\")\n",
    "[wx_params, wy_params] = z_cal.fitDefocusingCurves(wx, wy, z, n_additional = fit_order, z_params = p_start)\n",
    "print(wx_params)\n",
    "p_start = wx_params[:3]\n",
    "\n",
    "# Remove outliers.\n",
    "print(\"Removing outliers.\")\n",
    "[t_wx, t_wy, t_z] = z_cal.removeOutliers(wx, wy, z, wx_params, wy_params, outliers)\n",
    "\n",
    "# Redo fit.\n",
    "print(\"Fitting (round 3).\")\n",
    "[wx_params, wy_params] = z_cal.fitDefocusingCurves(t_wx, t_wy, t_z, n_additional = fit_order, z_params = p_start)\n",
    "\n",
    "# Plot fit.\n",
    "z_cal.plotFit(wx, wy, z, t_wx, t_wy, t_z, wx_params, wy_params, z_range = 0.4)\n",
    "\n",
    "# This prints the parameter with the scale expected by 3D-DAOSTORM in the analysis XML file.\n",
    "z_cal.prettyPrint(wx_params, wy_params, pixel_size = pixel_size)"
   ]
  },
  {
   "cell_type": "markdown",
   "metadata": {},
   "source": [
    "Create a parameters file with these calibration values."
   ]
  },
  {
   "cell_type": "code",
   "execution_count": null,
   "metadata": {},
   "outputs": [],
   "source": [
    "# Load the parameters.\n",
    "daop = params.ParametersDAO().initFromFile(\"example.xml\")\n",
    "\n",
    "# Update calibration parameters.\n",
    "z_cal.setWxWyParams(daop, wx_params, wy_params, pixel_size)\n",
    "\n",
    "# Do z fitting.\n",
    "daop.changeAttr(\"do_zfit\", 1)\n",
    "\n",
    "# Use a higher threshold as the Gaussian PSF is not a good match for our PSF model, so\n",
    "# we'll get spurious peak splitting if it is too low.\n",
    "daop.changeAttr(\"threshold\", 12)\n",
    "\n",
    "# Don't do tracking or drift correction as this movie is the same as the calibration\n",
    "# movie, every frame has a different z value.\n",
    "daop.changeAttr(\"radius\", 0.0)\n",
    "daop.changeAttr(\"drift_correction\", 0)\n",
    "\n",
    "# Save the changed parameters.\n",
    "daop.toXMLFile(\"measure.xml\")"
   ]
  },
  {
   "cell_type": "markdown",
   "metadata": {},
   "source": [
    "### Analyze test set with the z-calibration parameters."
   ]
  },
  {
   "cell_type": "code",
   "execution_count": null,
   "metadata": {},
   "outputs": [],
   "source": [
    "if os.path.exists(\"measure.hdf5\"):\n",
    "    os.remove(\"measure.hdf5\")\n",
    "    \n",
    "mfit.analyze(\"measure.tif\", \"measure.hdf5\", \"measure.xml\")\n"
   ]
  },
  {
   "cell_type": "markdown",
   "metadata": {},
   "source": [
    "Plot Wx / Wy versus Z curves."
   ]
  },
  {
   "cell_type": "code",
   "execution_count": null,
   "metadata": {},
   "outputs": [],
   "source": [
    "[wx, wy, z, pixel_size] = z_cal.loadWxWyZData(\"measure.hdf5\", \"z_offsets.txt\")\n",
    "\n",
    "pyplot.scatter(z, wx, color = 'r')\n",
    "pyplot.scatter(z, wy, color = 'b')\n",
    "pyplot.show()"
   ]
  },
  {
   "cell_type": "markdown",
   "metadata": {},
   "source": [
    "Check how well we did at fitting Z."
   ]
  },
  {
   "cell_type": "code",
   "execution_count": null,
   "metadata": {},
   "outputs": [],
   "source": [
    "import storm_analysis.sa_library.sa_h5py as saH5Py\n",
    "\n",
    "# Create numpy arrays with the real and the measured z values.\n",
    "measured_z = numpy.array([])\n",
    "real_z = numpy.array([])\n",
    "\n",
    "with saH5Py.SAH5Py(\"measure.hdf5\") as h5:\n",
    "    for fnum, locs in h5.localizationsIterator():\n",
    "        z = locs[\"z\"]\n",
    "        measured_z = numpy.concatenate((measured_z, z))\n",
    "        real_z = numpy.concatenate((real_z, numpy.ones(z.size)*z_offsets[fnum]))\n",
    "        \n",
    "# Plot\n",
    "pyplot.scatter(real_z, measured_z)\n"
   ]
  },
  {
   "cell_type": "code",
   "execution_count": null,
   "metadata": {},
   "outputs": [],
   "source": []
  }
 ],
 "metadata": {
  "kernelspec": {
   "display_name": "Python3 (py3jenv)",
   "language": "python",
   "name": "py3jenv"
  },
  "language_info": {
   "codemirror_mode": {
    "name": "ipython",
    "version": 3
   },
   "file_extension": ".py",
   "mimetype": "text/x-python",
   "name": "python",
   "nbconvert_exporter": "python",
   "pygments_lexer": "ipython3",
   "version": "3.6.3"
  }
 },
 "nbformat": 4,
 "nbformat_minor": 2
}
