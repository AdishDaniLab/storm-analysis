{
 "cells": [
  {
   "cell_type": "markdown",
   "metadata": {},
   "source": [
    "## Diagnostics for PSF FFT"
   ]
  },
  {
   "cell_type": "markdown",
   "metadata": {},
   "source": [
    "### Configure environment"
   ]
  },
  {
   "cell_type": "code",
   "execution_count": null,
   "metadata": {},
   "outputs": [],
   "source": [
    "import os\n",
    "os.chdir(\"/home/hbabcock/Data/storm_analysis/sa_diagnostics/psf_fft\")\n",
    "print(os.getcwd())"
   ]
  },
  {
   "cell_type": "code",
   "execution_count": null,
   "metadata": {},
   "outputs": [],
   "source": [
    "import storm_analysis.diagnostics.psf_fft.settings as settings\n",
    "import storm_analysis.diagnostics.psf_fft.configure as configure\n",
    "import storm_analysis.diagnostics.psf_fft.make_data as makeData\n",
    "import storm_analysis.diagnostics.psf_fft.analyze_data as analyzeData\n",
    "import storm_analysis.diagnostics.psf_fft.collate as collate\n"
   ]
  },
  {
   "cell_type": "code",
   "execution_count": null,
   "metadata": {},
   "outputs": [],
   "source": [
    "#settings.photons = [[10, 500], [10, 1000]]\n",
    "print(settings.photons)"
   ]
  },
  {
   "cell_type": "markdown",
   "metadata": {},
   "source": [
    "### Configure"
   ]
  },
  {
   "cell_type": "code",
   "execution_count": null,
   "metadata": {},
   "outputs": [],
   "source": [
    "configure.configure()"
   ]
  },
  {
   "cell_type": "markdown",
   "metadata": {},
   "source": [
    "### Make Data"
   ]
  },
  {
   "cell_type": "code",
   "execution_count": null,
   "metadata": {},
   "outputs": [],
   "source": [
    "makeData.makeData()"
   ]
  },
  {
   "cell_type": "markdown",
   "metadata": {},
   "source": [
    "### Analyze data"
   ]
  },
  {
   "cell_type": "code",
   "execution_count": null,
   "metadata": {},
   "outputs": [],
   "source": [
    "%time analyzeData.analyzeData()"
   ]
  },
  {
   "cell_type": "markdown",
   "metadata": {},
   "source": [
    "### Collate data"
   ]
  },
  {
   "cell_type": "code",
   "execution_count": null,
   "metadata": {},
   "outputs": [],
   "source": [
    "collate.collate()"
   ]
  },
  {
   "cell_type": "markdown",
   "metadata": {},
   "source": [
    "### Reference results"
   ]
  },
  {
   "cell_type": "raw",
   "metadata": {},
   "source": [
    "2018-03-18\n",
    "commit 2a8dbe4a04f242b9bd8c68c3ba63c0d152a29e88 \n",
    "\n",
    "Processing test_01\n",
    "Using max_distance 200.0 nm for error calcuations.\n",
    "Processing test_02\n",
    "Using max_distance 200.0 nm for error calcuations.\n",
    "\n",
    "Analysis Summary:\n",
    "Processed 2448 localizations in 10.33 seconds, 236.92/sec\n",
    "Recall 0.53770\n",
    "Noise 0.46230\n",
    "XYZ Precision (nm):\n",
    "test_01\t36.02\t35.45\t61.17\n",
    "test_02\t20.12\t19.89\t32.70\n",
    "\n",
    "XYZ RMS Accuracy (nm):\n",
    "test_01\t36.02\t35.45\t61.38\n",
    "test_02\t20.12\t19.90\t33.07"
   ]
  }
 ],
 "metadata": {
  "kernelspec": {
   "display_name": "Python3 (py3jenv)",
   "language": "python",
   "name": "py3jenv"
  },
  "language_info": {
   "codemirror_mode": {
    "name": "ipython",
    "version": 3
   },
   "file_extension": ".py",
   "mimetype": "text/x-python",
   "name": "python",
   "nbconvert_exporter": "python",
   "pygments_lexer": "ipython3",
   "version": "3.6.3"
  }
 },
 "nbformat": 4,
 "nbformat_minor": 2
}
