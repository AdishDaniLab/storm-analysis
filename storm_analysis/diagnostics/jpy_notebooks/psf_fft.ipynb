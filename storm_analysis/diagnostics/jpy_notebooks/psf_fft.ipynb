{
 "cells": [
  {
   "cell_type": "markdown",
   "metadata": {},
   "source": [
    "## Diagnostics for PSF FFT"
   ]
  },
  {
   "cell_type": "markdown",
   "metadata": {},
   "source": [
    "### Configure environment"
   ]
  },
  {
   "cell_type": "code",
   "execution_count": null,
   "metadata": {},
   "outputs": [],
   "source": [
    "import os\n",
    "os.chdir(\"/home/hbabcock/Data/storm_analysis/sa_diagnostics/psf_fft\")\n",
    "print(os.getcwd())"
   ]
  },
  {
   "cell_type": "code",
   "execution_count": null,
   "metadata": {},
   "outputs": [],
   "source": [
    "import storm_analysis.diagnostics.psf_fft.settings as settings\n",
    "import storm_analysis.diagnostics.psf_fft.configure as configure\n",
    "import storm_analysis.diagnostics.psf_fft.make_data as makeData\n",
    "import storm_analysis.diagnostics.psf_fft.analyze_data as analyzeData\n",
    "import storm_analysis.diagnostics.psf_fft.collate as collate\n"
   ]
  },
  {
   "cell_type": "code",
   "execution_count": null,
   "metadata": {},
   "outputs": [],
   "source": [
    "settings.photons = [[20, 500], [20, 1000]]\n",
    "print(settings.photons)\n",
    "\n",
    "settings.iterations = 20\n",
    "settings.n_frames = 10\n",
    "settings.peak_locations = None"
   ]
  },
  {
   "cell_type": "markdown",
   "metadata": {},
   "source": [
    "### Configure"
   ]
  },
  {
   "cell_type": "code",
   "execution_count": null,
   "metadata": {},
   "outputs": [],
   "source": [
    "configure.configure()"
   ]
  },
  {
   "cell_type": "markdown",
   "metadata": {},
   "source": [
    "### Make Data"
   ]
  },
  {
   "cell_type": "code",
   "execution_count": null,
   "metadata": {},
   "outputs": [],
   "source": [
    "makeData.makeData()"
   ]
  },
  {
   "cell_type": "markdown",
   "metadata": {},
   "source": [
    "### Analyze data"
   ]
  },
  {
   "cell_type": "code",
   "execution_count": null,
   "metadata": {},
   "outputs": [],
   "source": [
    "%time analyzeData.analyzeData()"
   ]
  },
  {
   "cell_type": "markdown",
   "metadata": {},
   "source": [
    "### Collate data"
   ]
  },
  {
   "cell_type": "code",
   "execution_count": null,
   "metadata": {},
   "outputs": [],
   "source": [
    "collate.collate()"
   ]
  },
  {
   "cell_type": "markdown",
   "metadata": {},
   "source": [
    "### Reference results"
   ]
  },
  {
   "cell_type": "raw",
   "metadata": {},
   "source": [
    "2018-05-30\n",
    "commit 5b6cad999fb8e79cd09261f779cab0c72b0ac2d7\n",
    "\n",
    "Processing test_01\n",
    "Using max_distance 200.0 nm for error calcuations.\n",
    "Processing test_02\n",
    "Using max_distance 200.0 nm for error calcuations.\n",
    "\n",
    "Analysis Summary:\n",
    "Processed 2434 localizations in 9.13 seconds, 266.72/sec\n",
    "Recall 0.54921\n",
    "Noise 0.45079\n",
    "XYZ Error Standard Deviation (nm):\n",
    "test_01\t35.24\t34.74\t59.37\n",
    "test_02\t19.76\t19.23\t30.80\n",
    "\n",
    "XYZ RMSE Accuracy (nm):\n",
    "test_01\t35.25\t34.79\t59.45\n",
    "test_02\t19.76\t19.24\t31.37"
   ]
  }
 ],
 "metadata": {
  "kernelspec": {
   "display_name": "Python 3",
   "language": "python",
   "name": "python3"
  },
  "language_info": {
   "codemirror_mode": {
    "name": "ipython",
    "version": 3
   },
   "file_extension": ".py",
   "mimetype": "text/x-python",
   "name": "python",
   "nbconvert_exporter": "python",
   "pygments_lexer": "ipython3",
   "version": "3.6.5"
  }
 },
 "nbformat": 4,
 "nbformat_minor": 2
}
