{
 "cells": [
  {
   "cell_type": "markdown",
   "metadata": {},
   "source": [
    "## Diagnostics for 3D-DAOSTORM"
   ]
  },
  {
   "cell_type": "markdown",
   "metadata": {},
   "source": [
    "### Configure environment"
   ]
  },
  {
   "cell_type": "code",
   "execution_count": null,
   "metadata": {},
   "outputs": [],
   "source": [
    "import os\n",
    "os.chdir(\"/home/hbabcock/Data/storm_analysis/sa_diagnostics/dao_3d\")\n",
    "print(os.getcwd())"
   ]
  },
  {
   "cell_type": "code",
   "execution_count": null,
   "metadata": {},
   "outputs": [],
   "source": [
    "import storm_analysis.diagnostics.daostorm_3d.settings as settings\n",
    "import storm_analysis.diagnostics.daostorm_3d.configure as configure\n",
    "import storm_analysis.diagnostics.daostorm_3d.make_data as makeData\n",
    "import storm_analysis.diagnostics.daostorm_3d.analyze_data as analyzeData\n",
    "import storm_analysis.diagnostics.daostorm_3d.collate as collate\n"
   ]
  },
  {
   "cell_type": "code",
   "execution_count": null,
   "metadata": {},
   "outputs": [],
   "source": [
    "#settings.photons = [[10, 500], [10, 1000]]\n",
    "print(settings.photons)"
   ]
  },
  {
   "cell_type": "markdown",
   "metadata": {},
   "source": [
    "### Configure"
   ]
  },
  {
   "cell_type": "code",
   "execution_count": null,
   "metadata": {},
   "outputs": [],
   "source": [
    "configure.configure()"
   ]
  },
  {
   "cell_type": "markdown",
   "metadata": {},
   "source": [
    "### Make Data"
   ]
  },
  {
   "cell_type": "code",
   "execution_count": null,
   "metadata": {},
   "outputs": [],
   "source": [
    "makeData.makeData()"
   ]
  },
  {
   "cell_type": "markdown",
   "metadata": {},
   "source": [
    "### Analyze data"
   ]
  },
  {
   "cell_type": "code",
   "execution_count": null,
   "metadata": {},
   "outputs": [],
   "source": [
    "%time analyzeData.analyzeData()"
   ]
  },
  {
   "cell_type": "markdown",
   "metadata": {},
   "source": [
    "### Collate data"
   ]
  },
  {
   "cell_type": "code",
   "execution_count": null,
   "metadata": {},
   "outputs": [],
   "source": [
    "collate.collate()"
   ]
  },
  {
   "cell_type": "markdown",
   "metadata": {},
   "source": [
    "### Reference results"
   ]
  },
  {
   "cell_type": "raw",
   "metadata": {},
   "source": [
    "2018-03-16\n",
    "commit 87272d78c9bcb76e243f923fae702e6887e6a708\n",
    "\n",
    "Processing test_01\n",
    "Using max_distance 200.0 nm for error calcuations.\n",
    "Processing test_02\n",
    "Using max_distance 200.0 nm for error calcuations.\n",
    "\n",
    "Analysis Summary:\n",
    "Processed 2520 localizations in 1.35 seconds, 1862.29/sec\n",
    "Recall 0.94921\n",
    "Noise 0.05079\n",
    "XY Precision (nm):\n",
    "test_01\t13.67\t13.60\n",
    "test_02\t7.85\t7.97\n",
    "\n",
    "XY RMS Accuracy (nm):\n",
    "test_01\t13.67\t13.61\n",
    "test_02\t7.86\t7.97\n",
    "\n",
    "XY Width Error, Mean difference with truth, Standard deviation (pixels):\n",
    "test_01\t-0.001\t0.119\t-0.001\t0.119\n",
    "test_02\t0.032\t0.140\t0.032\t0.140"
   ]
  }
 ],
 "metadata": {
  "kernelspec": {
   "display_name": "Python3 (py3jenv)",
   "language": "python",
   "name": "py3jenv"
  },
  "language_info": {
   "codemirror_mode": {
    "name": "ipython",
    "version": 3
   },
   "file_extension": ".py",
   "mimetype": "text/x-python",
   "name": "python",
   "nbconvert_exporter": "python",
   "pygments_lexer": "ipython3",
   "version": "3.6.3"
  }
 },
 "nbformat": 4,
 "nbformat_minor": 2
}
