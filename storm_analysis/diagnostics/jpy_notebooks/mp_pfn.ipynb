{
 "cells": [
  {
   "cell_type": "markdown",
   "metadata": {},
   "source": [
    "## Diagnostics for multi-plane with the pupil function PSF model"
   ]
  },
  {
   "cell_type": "markdown",
   "metadata": {},
   "source": [
    "### Configure environment"
   ]
  },
  {
   "cell_type": "code",
   "execution_count": null,
   "metadata": {},
   "outputs": [],
   "source": [
    "import os\n",
    "os.chdir(\"/home/hbabcock/Data/storm_analysis/sa_diagnostics/mp_pfn\")\n",
    "print(os.getcwd())"
   ]
  },
  {
   "cell_type": "code",
   "execution_count": null,
   "metadata": {},
   "outputs": [],
   "source": [
    "import storm_analysis.diagnostics.multiplane.settings as settings\n",
    "import storm_analysis.diagnostics.multiplane.configure as configure\n",
    "import storm_analysis.diagnostics.multiplane.make_data as makeData\n",
    "import storm_analysis.diagnostics.multiplane.analyze_data as analyzeData\n",
    "import storm_analysis.diagnostics.multiplane.collate as collate\n"
   ]
  },
  {
   "cell_type": "code",
   "execution_count": null,
   "metadata": {},
   "outputs": [],
   "source": [
    "settings.photons = [[10, 500], [10, 1000]]\n",
    "print(settings.photons)\n",
    "\n",
    "settings.iterations = 20\n",
    "settings.n_frames = 10\n",
    "settings.peak_locations = None\n",
    "settings.psf_size = 30"
   ]
  },
  {
   "cell_type": "markdown",
   "metadata": {},
   "source": [
    "### Configure"
   ]
  },
  {
   "cell_type": "code",
   "execution_count": null,
   "metadata": {},
   "outputs": [],
   "source": [
    "configure.configure(\"pupilfn\", False)"
   ]
  },
  {
   "cell_type": "markdown",
   "metadata": {},
   "source": [
    "### Make Data"
   ]
  },
  {
   "cell_type": "code",
   "execution_count": null,
   "metadata": {},
   "outputs": [],
   "source": [
    "makeData.makeData()"
   ]
  },
  {
   "cell_type": "markdown",
   "metadata": {},
   "source": [
    "### Analyze data"
   ]
  },
  {
   "cell_type": "code",
   "execution_count": null,
   "metadata": {},
   "outputs": [],
   "source": [
    "%time analyzeData.analyzeData()"
   ]
  },
  {
   "cell_type": "markdown",
   "metadata": {},
   "source": [
    "### Collate data"
   ]
  },
  {
   "cell_type": "code",
   "execution_count": null,
   "metadata": {},
   "outputs": [],
   "source": [
    "collate.collate()"
   ]
  },
  {
   "cell_type": "markdown",
   "metadata": {},
   "source": [
    "### Reference results"
   ]
  },
  {
   "cell_type": "raw",
   "metadata": {},
   "source": [
    "2018-05-30\n",
    "commit 2013fc4619f279f555c18fb852c73d58fdfa4887\n",
    "\n",
    "Added 1260\n",
    "Added 1260\n",
    "Processing test_01\n",
    "Using max_distance 200.0 nm for error calcuations.\n",
    "Processing test_02\n",
    "Using max_distance 200.0 nm for error calcuations.\n",
    "\n",
    "Analysis Summary:\n",
    "Processed 2514 localizations in 20.23 seconds, 124.27/sec\n",
    "Recall 0.60675\n",
    "Noise 0.39325\n",
    "XYZ Error Standard Deviation (nm):\n",
    "test_01\t29.29\t31.58\t55.39\n",
    "test_02\t16.34\t16.10\t29.36\n",
    "\n",
    "XYZ RMSE Accuracy (nm):\n",
    "test_01\t29.31\t31.59\t55.39\n",
    "test_02\t16.35\t16.12\t29.36"
   ]
  }
 ],
 "metadata": {
  "kernelspec": {
   "display_name": "Python 3",
   "language": "python",
   "name": "python3"
  },
  "language_info": {
   "codemirror_mode": {
    "name": "ipython",
    "version": 3
   },
   "file_extension": ".py",
   "mimetype": "text/x-python",
   "name": "python",
   "nbconvert_exporter": "python",
   "pygments_lexer": "ipython3",
   "version": "3.6.5"
  }
 },
 "nbformat": 4,
 "nbformat_minor": 2
}
