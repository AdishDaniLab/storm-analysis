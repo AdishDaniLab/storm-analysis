{
 "cells": [
  {
   "cell_type": "markdown",
   "metadata": {},
   "source": [
    "## Diagnostics for ADMM deconvolution"
   ]
  },
  {
   "cell_type": "markdown",
   "metadata": {},
   "source": [
    "### Configure environment"
   ]
  },
  {
   "cell_type": "code",
   "execution_count": null,
   "metadata": {},
   "outputs": [],
   "source": [
    "import os\n",
    "os.chdir(\"/home/hbabcock/Data/storm_analysis/sa_diagnostics/admm_decon\")\n",
    "print(os.getcwd())\n",
    "\n",
    "import numpy\n",
    "numpy.random.seed(1)"
   ]
  },
  {
   "cell_type": "code",
   "execution_count": null,
   "metadata": {},
   "outputs": [],
   "source": [
    "import storm_analysis.diagnostics.admm_decon.settings as settings\n",
    "import storm_analysis.diagnostics.admm_decon.configure as configure\n",
    "import storm_analysis.diagnostics.admm_decon.make_data as makeData\n",
    "import storm_analysis.diagnostics.admm_decon.analyze_data as analyzeData\n",
    "import storm_analysis.diagnostics.admm_decon.collate as collate\n"
   ]
  },
  {
   "cell_type": "code",
   "execution_count": null,
   "metadata": {},
   "outputs": [],
   "source": [
    "settings.photons = [[20, 4000]]\n",
    "print(settings.photons)\n",
    "\n",
    "settings.iterations = 1\n",
    "settings.n_frames = 5\n",
    "settings.use_dh = False\n"
   ]
  },
  {
   "cell_type": "markdown",
   "metadata": {},
   "source": [
    "### Configure"
   ]
  },
  {
   "cell_type": "code",
   "execution_count": null,
   "metadata": {},
   "outputs": [],
   "source": [
    "configure.configure(False)"
   ]
  },
  {
   "cell_type": "markdown",
   "metadata": {},
   "source": [
    "### Make Data"
   ]
  },
  {
   "cell_type": "code",
   "execution_count": null,
   "metadata": {},
   "outputs": [],
   "source": [
    "makeData.makeData()"
   ]
  },
  {
   "cell_type": "markdown",
   "metadata": {},
   "source": [
    "### Analyze data"
   ]
  },
  {
   "cell_type": "code",
   "execution_count": null,
   "metadata": {},
   "outputs": [],
   "source": [
    "%time analyzeData.analyzeData()"
   ]
  },
  {
   "cell_type": "markdown",
   "metadata": {},
   "source": [
    "### Collate data"
   ]
  },
  {
   "cell_type": "code",
   "execution_count": null,
   "metadata": {},
   "outputs": [],
   "source": [
    "collate.collate()"
   ]
  },
  {
   "cell_type": "markdown",
   "metadata": {},
   "source": [
    "### Reference results"
   ]
  },
  {
   "cell_type": "raw",
   "metadata": {},
   "source": [
    "2018-06-21\n",
    "commit 13be68dbf88831c5d61f4af74948f940852a85be\n",
    "\n",
    "Analysis Summary:\n",
    "Processed 630 localizations in 0.86 seconds, 728.63/sec\n",
    "Recall 0.61746\n",
    "Noise 0.38254\n",
    "XY Error Standard Deviation (nm):\n",
    "test_01\t20.82\t19.15\n",
    "\n",
    "XY RMSE (nm):\n",
    "test_01\t21.01\t19.21\n",
    "\n",
    "XY Width Error, Mean difference with truth, Standard deviation (pixels):\n",
    "test_01\t0.000\t0.000\t0.000\t0.000"
   ]
  }
 ],
 "metadata": {
  "kernelspec": {
   "display_name": "Python 3",
   "language": "python",
   "name": "python3"
  },
  "language_info": {
   "codemirror_mode": {
    "name": "ipython",
    "version": 3
   },
   "file_extension": ".py",
   "mimetype": "text/x-python",
   "name": "python",
   "nbconvert_exporter": "python",
   "pygments_lexer": "ipython3",
   "version": "3.6.8"
  }
 },
 "nbformat": 4,
 "nbformat_minor": 2
}
