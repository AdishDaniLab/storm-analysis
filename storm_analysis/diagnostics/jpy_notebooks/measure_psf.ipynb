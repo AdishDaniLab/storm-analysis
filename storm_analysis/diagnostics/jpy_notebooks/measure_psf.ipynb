{
 "cells": [
  {
   "cell_type": "markdown",
   "metadata": {},
   "source": [
    "## Diagnostics for PSF measurement"
   ]
  },
  {
   "cell_type": "markdown",
   "metadata": {},
   "source": [
    "### Configure environment"
   ]
  },
  {
   "cell_type": "code",
   "execution_count": null,
   "metadata": {},
   "outputs": [],
   "source": [
    "import os\n",
    "os.chdir(\"/home/hbabcock/Data/storm_analysis/sa_diagnostics/measure_psf\")\n",
    "print(os.getcwd())"
   ]
  },
  {
   "cell_type": "code",
   "execution_count": null,
   "metadata": {},
   "outputs": [],
   "source": [
    "import storm_analysis.diagnostics.measure_psf.measure_psf as measurePSF\n"
   ]
  },
  {
   "cell_type": "markdown",
   "metadata": {},
   "source": [
    "### Measure PSF"
   ]
  },
  {
   "cell_type": "code",
   "execution_count": null,
   "metadata": {},
   "outputs": [],
   "source": [
    "measurePSF.measurePSF()"
   ]
  },
  {
   "cell_type": "markdown",
   "metadata": {},
   "source": [
    "### Reference results"
   ]
  },
  {
   "cell_type": "raw",
   "metadata": {},
   "source": [
    "2018-08-30\n",
    "commit 41d2418c877f1b72cdbf53e5bd9cce643ec6b8a3\n",
    "\n",
    "Measuring PSF (beads).\n",
    "Measuring PSF (HDF5, with zoffset).\n",
    "Measuring PSF (HDF5).\n",
    "Measure PSF (multiplane).\n",
    "Measuring PSF (beads).\n",
    "Measuring PSF (HDF5, with zoffset).\n",
    "Measure PSF (multiplane).\n",
    "Measuring PSF (beads).\n",
    "Measuring PSF (HDF5, with zoffset).\n",
    "Measuring PSF (HDF5).\n",
    "No differences detected, all good.\n"
   ]
  }
 ],
 "metadata": {
  "kernelspec": {
   "display_name": "Python 3",
   "language": "python",
   "name": "python3"
  },
  "language_info": {
   "codemirror_mode": {
    "name": "ipython",
    "version": 3
   },
   "file_extension": ".py",
   "mimetype": "text/x-python",
   "name": "python",
   "nbconvert_exporter": "python",
   "pygments_lexer": "ipython3",
   "version": "3.6.5"
  }
 },
 "nbformat": 4,
 "nbformat_minor": 2
}
